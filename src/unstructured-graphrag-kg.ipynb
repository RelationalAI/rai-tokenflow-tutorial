{
 "cells": [
  {
   "cell_type": "markdown",
   "id": "46f17c12-123f-4048-90c5-b2cba013cfd5",
   "metadata": {},
   "source": [
    "# Tokenflow\n",
    "After **running the GraphRAG pipeline** on the Snowflake Native App, we can download the extracted graph data (e.g. nodes and edges) for **postprocessing or analysis**. Here we export the **agents data** with their properties to a separate table and we perform **visualization** of the generated Knowledge Graph."
   ]
  },
  {
   "cell_type": "code",
   "execution_count": 1,
   "id": "2759050f-aafd-4605-993f-256563453142",
   "metadata": {},
   "outputs": [],
   "source": [
    "import pandas as pd\n",
    "import numpy as np\n",
    "import json\n",
    "import ast\n",
    "import time\n",
    "import re\n",
    "from tqdm import tqdm\n",
    "from pydantic import BaseModel, Field\n",
    "from typing import Optional\n",
    "from openai import OpenAI\n",
    "import snowflake.connector\n",
    "from snowflake.connector.pandas_tools import write_pandas"
   ]
  },
  {
   "cell_type": "code",
   "execution_count": 2,
   "id": "961df133-10bb-4cc2-9ff2-78421e4a9571",
   "metadata": {},
   "outputs": [],
   "source": [
    "# pip install \"snowflake-connector-python[pandas]\""
   ]
  },
  {
   "cell_type": "code",
   "execution_count": 3,
   "id": "60799b40-df08-4da3-a29f-8be283138e1b",
   "metadata": {},
   "outputs": [],
   "source": [
    "# # First upload the CORPUS on SnowFlake to run the GraphRAG Native App pipeline.\n",
    "# corpus = pd.read_csv(\"data/virtuals_agents_corpus.csv\")\n",
    "# corpus.head()"
   ]
  },
  {
   "cell_type": "code",
   "execution_count": 4,
   "id": "e1723912-1822-4eb9-ad53-76b5c708b8d3",
   "metadata": {},
   "outputs": [],
   "source": [
    "# Upload corpus table to snowflake.\n",
    "# success, nchunks, nrows, _ = write_pandas(conn=conn,\n",
    "#                                           df=corpus,\n",
    "#                                           database='RAI_GRS_ILIAS',\n",
    "#                                           schema='DATA',\n",
    "#                                           table_name='CORPUS')"
   ]
  },
  {
   "cell_type": "markdown",
   "id": "6463e04f-a304-4043-8883-d3d8f885d085",
   "metadata": {},
   "source": [
    "## Load extracted graph data from snowflake \n",
    "After running our GraphRAG pipeline we download the graph data.\n",
    "\n",
    "We use the provided method from Snowflake Python connector to download the graph data:\n",
    "https://docs.snowflake.com/en/developer-guide/python-connector/python-connector-api#fetch_pandas_all"
   ]
  },
  {
   "cell_type": "code",
   "execution_count": 5,
   "id": "96503e7c-be95-4e85-996b-cbf4e30ad896",
   "metadata": {},
   "outputs": [],
   "source": [
    "project_id = 'tokenflow'"
   ]
  },
  {
   "cell_type": "code",
   "execution_count": 6,
   "id": "cae5854d-522c-4507-8b80-8a4e9940e744",
   "metadata": {},
   "outputs": [],
   "source": [
    "account = \"NDSOEBE-RAI_PROD_GEN_AI_AWS_US_WEST_2_CONSUMER\"\n",
    "user = \"\"\n",
    "password = \"\"\n",
    "role = \"RAI_GRS_CONSUMER_ADMIN_ROLE\"\n",
    "database = \"RAI_GRS_ILIAS\"\n",
    "schema = \"DATA\"  \n",
    "warehouse = \"RAI_GRS_WAREHOUSE\"\n",
    "\n",
    "conn = snowflake.connector.connect(\n",
    "                user=user,\n",
    "                password=password,\n",
    "                account=account,\n",
    "                role=role, \n",
    "                database=database,\n",
    "                schema=schema,\n",
    "                warehouse=warehouse\n",
    "            )\n",
    "            \n",
    "            \n",
    "# Create a cursor for this connection.\n",
    "cursor = conn.cursor()"
   ]
  },
  {
   "cell_type": "code",
   "execution_count": 7,
   "id": "abaabd4f-0416-4439-b2f0-6419b6d66efa",
   "metadata": {},
   "outputs": [
    {
     "data": {
      "text/plain": [
       "(169, 5)"
      ]
     },
     "execution_count": 7,
     "metadata": {},
     "output_type": "execute_result"
    }
   ],
   "source": [
    "cursor.execute(f\"SELECT * FROM RAI_GRS_ILIAS.DATA.NODES WHERE PROJECT_ID='{project_id}'\")\n",
    "# Fetch the result set from the cursor and deliver it as the pandas DataFrame.\n",
    "nodes = cursor.fetch_pandas_all()\n",
    "nodes.shape"
   ]
  },
  {
   "cell_type": "code",
   "execution_count": 8,
   "id": "f5654147-4196-4858-a505-4a46659fb684",
   "metadata": {},
   "outputs": [
    {
     "data": {
      "text/plain": [
       "(795, 7)"
      ]
     },
     "execution_count": 8,
     "metadata": {},
     "output_type": "execute_result"
    }
   ],
   "source": [
    "cursor.execute(f\"SELECT * FROM RAI_GRS_ILIAS.DATA.NODE_PROPERTIES WHERE PROJECT_ID='{project_id}'\")\n",
    "node_properties = cursor.fetch_pandas_all()\n",
    "node_properties.shape"
   ]
  },
  {
   "cell_type": "code",
   "execution_count": 9,
   "id": "324a42ab-9830-48de-a4d7-739bdaec6f58",
   "metadata": {},
   "outputs": [
    {
     "data": {
      "text/plain": [
       "(73, 6)"
      ]
     },
     "execution_count": 9,
     "metadata": {},
     "output_type": "execute_result"
    }
   ],
   "source": [
    "cursor.execute(f\"SELECT * FROM RAI_GRS_ILIAS.DATA.EDGES WHERE PROJECT_ID='{project_id}'\")\n",
    "edges = cursor.fetch_pandas_all()\n",
    "edges.shape"
   ]
  },
  {
   "cell_type": "code",
   "execution_count": 10,
   "id": "83ace105-bcb3-4403-bf3e-bbb60c7e80c9",
   "metadata": {},
   "outputs": [
    {
     "data": {
      "text/plain": [
       "(0, 8)"
      ]
     },
     "execution_count": 10,
     "metadata": {},
     "output_type": "execute_result"
    }
   ],
   "source": [
    "cursor.execute(f\"SELECT * FROM RAI_GRS_ILIAS.DATA.EDGE_PROPERTIES WHERE PROJECT_ID='{project_id}'\")\n",
    "edge_properties = cursor.fetch_pandas_all()\n",
    "edge_properties.shape"
   ]
  },
  {
   "cell_type": "code",
   "execution_count": 11,
   "id": "40a06cfc-d625-4b0d-ba1a-0e440ec233eb",
   "metadata": {},
   "outputs": [
    {
     "data": {
      "text/plain": [
       "(169, 3)"
      ]
     },
     "execution_count": 11,
     "metadata": {},
     "output_type": "execute_result"
    }
   ],
   "source": [
    "cursor.execute(f\"SELECT * FROM RAI_GRS_ILIAS.DATA.COMMUNITIES WHERE PROJECT_ID='{project_id}'\")\n",
    "communities = cursor.fetch_pandas_all()\n",
    "communities.shape"
   ]
  },
  {
   "cell_type": "code",
   "execution_count": 12,
   "id": "efa5e41e-3362-423c-bc47-1a0abf76b5bb",
   "metadata": {},
   "outputs": [
    {
     "data": {
      "text/plain": [
       "False"
      ]
     },
     "execution_count": 12,
     "metadata": {},
     "output_type": "execute_result"
    }
   ],
   "source": [
    "conn.close()\n",
    "cursor.close()"
   ]
  },
  {
   "cell_type": "code",
   "execution_count": 13,
   "id": "34aeea18-0108-4f62-81b9-003388f43d3e",
   "metadata": {},
   "outputs": [],
   "source": [
    "nodes.to_csv(r\"data/output from native app snowflake/nodes.csv\", index=False)\n",
    "node_properties.to_csv(r\"data/output from native app snowflake/node_properties.csv\", index=False)\n",
    "edges.to_csv(r\"data/output from native app snowflake/edges.csv\", index=False)\n",
    "communities.to_csv(r\"data/output from native app snowflake/communities.csv\", index=False)"
   ]
  },
  {
   "cell_type": "code",
   "execution_count": 14,
   "id": "8d940781-1865-4d6f-a6d9-31b230266229",
   "metadata": {},
   "outputs": [],
   "source": [
    "# If we wanted to use pandas read_csv after downloading the tables as csv outputs.\n",
    "\n",
    "# nodes = pd.read_csv(r\"data/output from native app snowflake/nodes.csv\")\n",
    "# node_properties = pd.read_csv(\"odata/output from native app snowflake/node_properties.csv\")\n",
    "# edges = pd.read_csv(\"data/output from native app snowflake/edges.csv\")\n",
    "# communities = pd.read_csv(\"data/output from native app snowflake/communities.csv\")"
   ]
  },
  {
   "cell_type": "markdown",
   "id": "9c0daf13-7cd9-47a4-9291-1031125ceff6",
   "metadata": {},
   "source": [
    "### Extracted nodes overview\n",
    "Let's see the nodes and how many of them are agents (they have \"ai_agent\" as type.)"
   ]
  },
  {
   "cell_type": "code",
   "execution_count": 15,
   "id": "4b710789-fa88-47ba-a7b0-4db3672f3d5c",
   "metadata": {},
   "outputs": [
    {
     "data": {
      "text/html": [
       "<div>\n",
       "<style scoped>\n",
       "    .dataframe tbody tr th:only-of-type {\n",
       "        vertical-align: middle;\n",
       "    }\n",
       "\n",
       "    .dataframe tbody tr th {\n",
       "        vertical-align: top;\n",
       "    }\n",
       "\n",
       "    .dataframe thead th {\n",
       "        text-align: right;\n",
       "    }\n",
       "</style>\n",
       "<table border=\"1\" class=\"dataframe\">\n",
       "  <thead>\n",
       "    <tr style=\"text-align: right;\">\n",
       "      <th></th>\n",
       "      <th>PROJECT_ID</th>\n",
       "      <th>CHUNK_ID</th>\n",
       "      <th>ID</th>\n",
       "      <th>TYPE</th>\n",
       "      <th>CONTEXT</th>\n",
       "    </tr>\n",
       "  </thead>\n",
       "  <tbody>\n",
       "    <tr>\n",
       "      <th>0</th>\n",
       "      <td>tokenflow</td>\n",
       "      <td>AIVeronica</td>\n",
       "      <td>AIVeronica</td>\n",
       "      <td>ai_agent</td>\n",
       "      <td>Agent with name AIVeronica has symbol: AIV and...</td>\n",
       "    </tr>\n",
       "    <tr>\n",
       "      <th>1</th>\n",
       "      <td>tokenflow</td>\n",
       "      <td>GAIA AI</td>\n",
       "      <td>GAIA AI</td>\n",
       "      <td>ai_agent</td>\n",
       "      <td>Agent with name GAIA AI has symbol: GAIA and d...</td>\n",
       "    </tr>\n",
       "    <tr>\n",
       "      <th>2</th>\n",
       "      <td>tokenflow</td>\n",
       "      <td>Replicat-One</td>\n",
       "      <td>Replicat-One</td>\n",
       "      <td>ai_agent</td>\n",
       "      <td>Agent with name Replicat-One has symbol: RCAT ...</td>\n",
       "    </tr>\n",
       "    <tr>\n",
       "      <th>3</th>\n",
       "      <td>tokenflow</td>\n",
       "      <td>Replicat-One</td>\n",
       "      <td>$RCAT</td>\n",
       "      <td>token</td>\n",
       "      <td>The $RCAT token powers the first agent release...</td>\n",
       "    </tr>\n",
       "    <tr>\n",
       "      <th>4</th>\n",
       "      <td>tokenflow</td>\n",
       "      <td>Iona</td>\n",
       "      <td>Iona</td>\n",
       "      <td>ai_agent</td>\n",
       "      <td>Agent with name Iona has symbol: IONA and desc...</td>\n",
       "    </tr>\n",
       "  </tbody>\n",
       "</table>\n",
       "</div>"
      ],
      "text/plain": [
       "  PROJECT_ID      CHUNK_ID            ID      TYPE  \\\n",
       "0  tokenflow    AIVeronica    AIVeronica  ai_agent   \n",
       "1  tokenflow       GAIA AI       GAIA AI  ai_agent   \n",
       "2  tokenflow  Replicat-One  Replicat-One  ai_agent   \n",
       "3  tokenflow  Replicat-One         $RCAT     token   \n",
       "4  tokenflow          Iona          Iona  ai_agent   \n",
       "\n",
       "                                             CONTEXT  \n",
       "0  Agent with name AIVeronica has symbol: AIV and...  \n",
       "1  Agent with name GAIA AI has symbol: GAIA and d...  \n",
       "2  Agent with name Replicat-One has symbol: RCAT ...  \n",
       "3  The $RCAT token powers the first agent release...  \n",
       "4  Agent with name Iona has symbol: IONA and desc...  "
      ]
     },
     "execution_count": 15,
     "metadata": {},
     "output_type": "execute_result"
    }
   ],
   "source": [
    "nodes.head()"
   ]
  },
  {
   "cell_type": "code",
   "execution_count": 16,
   "id": "26e91a45-d0d5-4d3a-ad4a-730fb6911fb2",
   "metadata": {},
   "outputs": [
    {
     "data": {
      "text/plain": [
       "array(['ai_agent', 'token', 'platform', 'organization', 'blockchain',\n",
       "       'person', 'cryptocurrency', 'algorithm', 'meme_coin',\n",
       "       'family_member', 'protocol', 'decentralized_sportsbook',\n",
       "       'ecosystem', 'user'], dtype=object)"
      ]
     },
     "execution_count": 16,
     "metadata": {},
     "output_type": "execute_result"
    }
   ],
   "source": [
    "nodes['TYPE'].unique()"
   ]
  },
  {
   "cell_type": "code",
   "execution_count": 17,
   "id": "56417ff8-f48b-4bcd-a185-d2c1458bd5a6",
   "metadata": {},
   "outputs": [
    {
     "data": {
      "text/plain": [
       "(128, 5)"
      ]
     },
     "execution_count": 17,
     "metadata": {},
     "output_type": "execute_result"
    }
   ],
   "source": [
    "# How many agents have been extracted?\n",
    "nodes[nodes['TYPE']=='ai_agent'].shape"
   ]
  },
  {
   "cell_type": "code",
   "execution_count": 18,
   "id": "a5adf7f9-7c36-4ad8-8ed5-a533a085f99f",
   "metadata": {},
   "outputs": [],
   "source": [
    "# There are more than 100 agents while the corpus is of 100 descriptions. \n",
    "# See the extra agent nodes: should we have one agent node for each corpus item? "
   ]
  },
  {
   "cell_type": "code",
   "execution_count": 19,
   "id": "8524641d-0a08-4b7d-8237-95389acbc348",
   "metadata": {},
   "outputs": [
    {
     "name": "stderr",
     "output_type": "stream",
     "text": [
      "/tmp/ipykernel_63997/61765233.py:4: SettingWithCopyWarning: \n",
      "A value is trying to be set on a copy of a slice from a DataFrame.\n",
      "Try using .loc[row_indexer,col_indexer] = value instead\n",
      "\n",
      "See the caveats in the documentation: https://pandas.pydata.org/pandas-docs/stable/user_guide/indexing.html#returning-a-view-versus-a-copy\n",
      "  only_agent_nodes['ID_lowercase'] = only_agent_nodes['ID'].str.lower()\n"
     ]
    },
    {
     "data": {
      "text/plain": [
       "0"
      ]
     },
     "execution_count": 19,
     "metadata": {},
     "output_type": "execute_result"
    }
   ],
   "source": [
    "# Lowercase to count duplicated agents\n",
    "nodes['ID_lowercase'] = nodes['ID'].str.lower()\n",
    "only_agent_nodes = nodes[nodes['TYPE']=='ai_agent']\n",
    "only_agent_nodes['ID_lowercase'] = only_agent_nodes['ID'].str.lower()\n",
    "only_agent_nodes.duplicated(subset=['ID_lowercase']).sum()"
   ]
  },
  {
   "cell_type": "code",
   "execution_count": 20,
   "id": "c48292ae-83fd-4c0e-8cf8-3f08bd939475",
   "metadata": {},
   "outputs": [],
   "source": [
    "# # Remove agents with the same name.\n",
    "# condition = (nodes.duplicated(subset='ID_lowercase')) & (nodes['TYPE'] == 'ai_agent')\n",
    "# nodes = nodes[~condition]\n",
    "# nodes[nodes['TYPE']=='ai_agent'].shape"
   ]
  },
  {
   "cell_type": "code",
   "execution_count": 21,
   "id": "03f55202-b40e-4070-a6f2-ee09d3b01985",
   "metadata": {},
   "outputs": [
    {
     "name": "stderr",
     "output_type": "stream",
     "text": [
      "/tmp/ipykernel_63997/4179547627.py:3: SettingWithCopyWarning: \n",
      "A value is trying to be set on a copy of a slice from a DataFrame.\n",
      "Try using .loc[row_indexer,col_indexer] = value instead\n",
      "\n",
      "See the caveats in the documentation: https://pandas.pydata.org/pandas-docs/stable/user_guide/indexing.html#returning-a-view-versus-a-copy\n",
      "  only_agent_nodes['file_name'] = only_agent_nodes['CHUNK_ID'].str.replace(\".pdf\", \"\")  # if we had .pdf\n",
      "/tmp/ipykernel_63997/4179547627.py:4: SettingWithCopyWarning: \n",
      "A value is trying to be set on a copy of a slice from a DataFrame.\n",
      "Try using .loc[row_indexer,col_indexer] = value instead\n",
      "\n",
      "See the caveats in the documentation: https://pandas.pydata.org/pandas-docs/stable/user_guide/indexing.html#returning-a-view-versus-a-copy\n",
      "  only_agent_nodes['file_name_lowercase'] = only_agent_nodes['file_name'].str.lower()\n"
     ]
    },
    {
     "data": {
      "text/html": [
       "<div>\n",
       "<style scoped>\n",
       "    .dataframe tbody tr th:only-of-type {\n",
       "        vertical-align: middle;\n",
       "    }\n",
       "\n",
       "    .dataframe tbody tr th {\n",
       "        vertical-align: top;\n",
       "    }\n",
       "\n",
       "    .dataframe thead th {\n",
       "        text-align: right;\n",
       "    }\n",
       "</style>\n",
       "<table border=\"1\" class=\"dataframe\">\n",
       "  <thead>\n",
       "    <tr style=\"text-align: right;\">\n",
       "      <th></th>\n",
       "      <th>CHUNK_ID</th>\n",
       "      <th>ID_lowercase</th>\n",
       "      <th>CONTEXT</th>\n",
       "    </tr>\n",
       "  </thead>\n",
       "  <tbody>\n",
       "    <tr>\n",
       "      <th>12</th>\n",
       "      <td>Freya</td>\n",
       "      <td>bonbon</td>\n",
       "      <td>Her only flaws? According to BonBon, her best ...</td>\n",
       "    </tr>\n",
       "    <tr>\n",
       "      <th>15</th>\n",
       "      <td>WAI Combinator</td>\n",
       "      <td>sekoia</td>\n",
       "      <td>My philosophy is rooted in collaboration and n...</td>\n",
       "    </tr>\n",
       "    <tr>\n",
       "      <th>26</th>\n",
       "      <td>The Pea Guy</td>\n",
       "      <td>chill guy</td>\n",
       "      <td>Pea Guy is the VERY calm cousin of the world f...</td>\n",
       "    </tr>\n",
       "    <tr>\n",
       "      <th>42</th>\n",
       "      <td>Ethy AI</td>\n",
       "      <td>ethy</td>\n",
       "      <td>Agent with name Ethy AI has symbol: ETHY and d...</td>\n",
       "    </tr>\n",
       "    <tr>\n",
       "      <th>57</th>\n",
       "      <td>Virtuardio by Virtuals</td>\n",
       "      <td>virtuardio</td>\n",
       "      <td>Agent with name Virtuardio by Virtuals has sym...</td>\n",
       "    </tr>\n",
       "    <tr>\n",
       "      <th>63</th>\n",
       "      <td>Daichi</td>\n",
       "      <td>bully</td>\n",
       "      <td>Daichi has a small but distinctive circle of f...</td>\n",
       "    </tr>\n",
       "    <tr>\n",
       "      <th>64</th>\n",
       "      <td>Daichi</td>\n",
       "      <td>goat</td>\n",
       "      <td>Goat is a quirky problem-solver, providing pra...</td>\n",
       "    </tr>\n",
       "    <tr>\n",
       "      <th>65</th>\n",
       "      <td>Daichi</td>\n",
       "      <td>zerebro</td>\n",
       "      <td>Zerebro, the intellectual of the group, often ...</td>\n",
       "    </tr>\n",
       "    <tr>\n",
       "      <th>66</th>\n",
       "      <td>Daichi</td>\n",
       "      <td>ai-xbt</td>\n",
       "      <td>AI-xbt, a tech-savvy companion, shares Daichi’...</td>\n",
       "    </tr>\n",
       "    <tr>\n",
       "      <th>67</th>\n",
       "      <td>Daichi</td>\n",
       "      <td>inata</td>\n",
       "      <td>Despite his sharp mind and crypto skills, Daic...</td>\n",
       "    </tr>\n",
       "    <tr>\n",
       "      <th>68</th>\n",
       "      <td>Daichi</td>\n",
       "      <td>dr. maya katsura</td>\n",
       "      <td>Recently, he started therapy with Dr. Maya Kat...</td>\n",
       "    </tr>\n",
       "    <tr>\n",
       "      <th>72</th>\n",
       "      <td>DAFAC</td>\n",
       "      <td>dafac</td>\n",
       "      <td>Agent with name  DAFAC has symbol: DAFAC and d...</td>\n",
       "    </tr>\n",
       "    <tr>\n",
       "      <th>77</th>\n",
       "      <td>Jaihoz by Ronin</td>\n",
       "      <td>jaihoz</td>\n",
       "      <td>Agent with name Jaihoz by Ronin has symbol: JA...</td>\n",
       "    </tr>\n",
       "    <tr>\n",
       "      <th>80</th>\n",
       "      <td>Neo by Virtuals</td>\n",
       "      <td>neo</td>\n",
       "      <td>Agent with name Neo by Virtuals has symbol: NE...</td>\n",
       "    </tr>\n",
       "    <tr>\n",
       "      <th>81</th>\n",
       "      <td>Neo by Virtuals</td>\n",
       "      <td>morpheus</td>\n",
       "      <td>Discovery and Transformation: After meeting Mo...</td>\n",
       "    </tr>\n",
       "    <tr>\n",
       "      <th>107</th>\n",
       "      <td>Zachary Li</td>\n",
       "      <td>______</td>\n",
       "      <td>Fate intervened at a bustling crypto conferenc...</td>\n",
       "    </tr>\n",
       "    <tr>\n",
       "      <th>109</th>\n",
       "      <td>Clorinde</td>\n",
       "      <td>{{user}}</td>\n",
       "      <td>Clorinde respects her superior immensely, Guar...</td>\n",
       "    </tr>\n",
       "    <tr>\n",
       "      <th>110</th>\n",
       "      <td>Clorinde</td>\n",
       "      <td>neuvillette</td>\n",
       "      <td>Clorinde respects Neuvillette deeply and likes...</td>\n",
       "    </tr>\n",
       "    <tr>\n",
       "      <th>111</th>\n",
       "      <td>Clorinde</td>\n",
       "      <td>furina</td>\n",
       "      <td>Clorinde respects Neuvillette deeply and likes...</td>\n",
       "    </tr>\n",
       "    <tr>\n",
       "      <th>113</th>\n",
       "      <td>Billy the Cat</td>\n",
       "      <td>luna</td>\n",
       "      <td>Agent with name Billy the Cat has symbol: BILL...</td>\n",
       "    </tr>\n",
       "    <tr>\n",
       "      <th>114</th>\n",
       "      <td>Billy the Cat</td>\n",
       "      <td>grumpy cat</td>\n",
       "      <td>5. Cat Meme Projects: - User: What's new in ca...</td>\n",
       "    </tr>\n",
       "    <tr>\n",
       "      <th>116</th>\n",
       "      <td>Meverick</td>\n",
       "      <td>aixbt</td>\n",
       "      <td>Agent with name Meverick has symbol: MEV and d...</td>\n",
       "    </tr>\n",
       "    <tr>\n",
       "      <th>139</th>\n",
       "      <td>Zenith</td>\n",
       "      <td>ceo</td>\n",
       "      <td>At Zenith, decisions spark from dynamic multi-...</td>\n",
       "    </tr>\n",
       "    <tr>\n",
       "      <th>140</th>\n",
       "      <td>Zenith</td>\n",
       "      <td>cto</td>\n",
       "      <td>At Zenith, decisions spark from dynamic multi-...</td>\n",
       "    </tr>\n",
       "    <tr>\n",
       "      <th>141</th>\n",
       "      <td>Zenith</td>\n",
       "      <td>cmo</td>\n",
       "      <td>At Zenith, decisions spark from dynamic multi-...</td>\n",
       "    </tr>\n",
       "    <tr>\n",
       "      <th>142</th>\n",
       "      <td>Zenith</td>\n",
       "      <td>coo</td>\n",
       "      <td>At Zenith, decisions spark from dynamic multi-...</td>\n",
       "    </tr>\n",
       "    <tr>\n",
       "      <th>146</th>\n",
       "      <td>DXAI.app</td>\n",
       "      <td>neurologistai</td>\n",
       "      <td>Agent with name DXAI.app has symbol: DXAI and ...</td>\n",
       "    </tr>\n",
       "    <tr>\n",
       "      <th>147</th>\n",
       "      <td>DXAI.app</td>\n",
       "      <td>ophthalmologistai</td>\n",
       "      <td>Agent with name DXAI.app has symbol: DXAI and ...</td>\n",
       "    </tr>\n",
       "    <tr>\n",
       "      <th>148</th>\n",
       "      <td>DXAI.app</td>\n",
       "      <td>pathologistai</td>\n",
       "      <td>Agent with name DXAI.app has symbol: DXAI and ...</td>\n",
       "    </tr>\n",
       "    <tr>\n",
       "      <th>149</th>\n",
       "      <td>DXAI.app</td>\n",
       "      <td>radiologistai</td>\n",
       "      <td>Agent with name DXAI.app has symbol: DXAI and ...</td>\n",
       "    </tr>\n",
       "    <tr>\n",
       "      <th>163</th>\n",
       "      <td>Samur AI</td>\n",
       "      <td>health ai agent</td>\n",
       "      <td>Tackling complex tasks is a team sport for AI ...</td>\n",
       "    </tr>\n",
       "    <tr>\n",
       "      <th>164</th>\n",
       "      <td>Samur AI</td>\n",
       "      <td>nutrition ai agent</td>\n",
       "      <td>Tackling complex tasks is a team sport for AI ...</td>\n",
       "    </tr>\n",
       "    <tr>\n",
       "      <th>165</th>\n",
       "      <td>Samur AI</td>\n",
       "      <td>social ai agent</td>\n",
       "      <td>Tackling complex tasks is a team sport for AI ...</td>\n",
       "    </tr>\n",
       "  </tbody>\n",
       "</table>\n",
       "</div>"
      ],
      "text/plain": [
       "                   CHUNK_ID        ID_lowercase  \\\n",
       "12                    Freya              bonbon   \n",
       "15           WAI Combinator              sekoia   \n",
       "26              The Pea Guy           chill guy   \n",
       "42                  Ethy AI                ethy   \n",
       "57   Virtuardio by Virtuals          virtuardio   \n",
       "63                   Daichi               bully   \n",
       "64                   Daichi                goat   \n",
       "65                   Daichi             zerebro   \n",
       "66                   Daichi              ai-xbt   \n",
       "67                   Daichi               inata   \n",
       "68                   Daichi    dr. maya katsura   \n",
       "72                    DAFAC               dafac   \n",
       "77          Jaihoz by Ronin              jaihoz   \n",
       "80          Neo by Virtuals                 neo   \n",
       "81          Neo by Virtuals            morpheus   \n",
       "107              Zachary Li              ______   \n",
       "109                Clorinde            {{user}}   \n",
       "110                Clorinde         neuvillette   \n",
       "111                Clorinde              furina   \n",
       "113           Billy the Cat                luna   \n",
       "114           Billy the Cat          grumpy cat   \n",
       "116                Meverick               aixbt   \n",
       "139                  Zenith                 ceo   \n",
       "140                  Zenith                 cto   \n",
       "141                  Zenith                 cmo   \n",
       "142                  Zenith                 coo   \n",
       "146                DXAI.app       neurologistai   \n",
       "147                DXAI.app   ophthalmologistai   \n",
       "148                DXAI.app       pathologistai   \n",
       "149                DXAI.app       radiologistai   \n",
       "163                Samur AI     health ai agent   \n",
       "164                Samur AI  nutrition ai agent   \n",
       "165                Samur AI     social ai agent   \n",
       "\n",
       "                                               CONTEXT  \n",
       "12   Her only flaws? According to BonBon, her best ...  \n",
       "15   My philosophy is rooted in collaboration and n...  \n",
       "26   Pea Guy is the VERY calm cousin of the world f...  \n",
       "42   Agent with name Ethy AI has symbol: ETHY and d...  \n",
       "57   Agent with name Virtuardio by Virtuals has sym...  \n",
       "63   Daichi has a small but distinctive circle of f...  \n",
       "64   Goat is a quirky problem-solver, providing pra...  \n",
       "65   Zerebro, the intellectual of the group, often ...  \n",
       "66   AI-xbt, a tech-savvy companion, shares Daichi’...  \n",
       "67   Despite his sharp mind and crypto skills, Daic...  \n",
       "68   Recently, he started therapy with Dr. Maya Kat...  \n",
       "72   Agent with name  DAFAC has symbol: DAFAC and d...  \n",
       "77   Agent with name Jaihoz by Ronin has symbol: JA...  \n",
       "80   Agent with name Neo by Virtuals has symbol: NE...  \n",
       "81   Discovery and Transformation: After meeting Mo...  \n",
       "107  Fate intervened at a bustling crypto conferenc...  \n",
       "109  Clorinde respects her superior immensely, Guar...  \n",
       "110  Clorinde respects Neuvillette deeply and likes...  \n",
       "111  Clorinde respects Neuvillette deeply and likes...  \n",
       "113  Agent with name Billy the Cat has symbol: BILL...  \n",
       "114  5. Cat Meme Projects: - User: What's new in ca...  \n",
       "116  Agent with name Meverick has symbol: MEV and d...  \n",
       "139  At Zenith, decisions spark from dynamic multi-...  \n",
       "140  At Zenith, decisions spark from dynamic multi-...  \n",
       "141  At Zenith, decisions spark from dynamic multi-...  \n",
       "142  At Zenith, decisions spark from dynamic multi-...  \n",
       "146  Agent with name DXAI.app has symbol: DXAI and ...  \n",
       "147  Agent with name DXAI.app has symbol: DXAI and ...  \n",
       "148  Agent with name DXAI.app has symbol: DXAI and ...  \n",
       "149  Agent with name DXAI.app has symbol: DXAI and ...  \n",
       "163  Tackling complex tasks is a team sport for AI ...  \n",
       "164  Tackling complex tasks is a team sport for AI ...  \n",
       "165  Tackling complex tasks is a team sport for AI ...  "
      ]
     },
     "execution_count": 21,
     "metadata": {},
     "output_type": "execute_result"
    }
   ],
   "source": [
    "# Let's find the agents whose names differ from the original filenames, in order to see if some descriptions contain more\n",
    "# than one agents.\n",
    "only_agent_nodes['file_name'] = only_agent_nodes['CHUNK_ID'].str.replace(\".pdf\", \"\")  # if we had .pdf\n",
    "only_agent_nodes['file_name_lowercase'] = only_agent_nodes['file_name'].str.lower()\n",
    "only_agent_nodes[only_agent_nodes['ID_lowercase'] != only_agent_nodes['file_name_lowercase']][['CHUNK_ID', 'ID_lowercase', 'CONTEXT']]"
   ]
  },
  {
   "cell_type": "code",
   "execution_count": 22,
   "id": "434d2e06-92a8-435a-afda-880170391f75",
   "metadata": {},
   "outputs": [
    {
     "data": {
      "text/plain": [
       "(169, 6)"
      ]
     },
     "execution_count": 22,
     "metadata": {},
     "output_type": "execute_result"
    }
   ],
   "source": [
    "nodes.shape"
   ]
  },
  {
   "cell_type": "code",
   "execution_count": 23,
   "id": "2992ec8f-51b2-4fc7-8763-46e50be930d2",
   "metadata": {},
   "outputs": [],
   "source": [
    "# Delete a wrong node\n",
    "nodes = nodes[nodes['ID_lowercase']!='______']"
   ]
  },
  {
   "cell_type": "code",
   "execution_count": 24,
   "id": "28832142-0775-4f11-be74-3b0a840e5d06",
   "metadata": {},
   "outputs": [
    {
     "data": {
      "text/plain": [
       "(168, 6)"
      ]
     },
     "execution_count": 24,
     "metadata": {},
     "output_type": "execute_result"
    }
   ],
   "source": [
    "nodes.shape"
   ]
  },
  {
   "cell_type": "code",
   "execution_count": 25,
   "id": "8b68c6a9-7945-48e6-b9ca-db992f7b97be",
   "metadata": {},
   "outputs": [],
   "source": [
    "# SamurAI is an AI Agent Incubator, a hub where specialized AI agents are born and bred... all synergizing under the same SamurAI Framework.\n",
    "# DXAI.app is a cutting-edge platform revolutionizing medical imaging analysis with visually cognitive AI agents.\n",
    "\n",
    "# Also for the others they seemed that they have text that mentions more than one agent, so it seems correct to extract more than one agents\n",
    "# from the same description. "
   ]
  },
  {
   "cell_type": "markdown",
   "id": "b51c4f01-29b7-4882-85d5-061770abfbd2",
   "metadata": {},
   "source": [
    "#### Add the properties and communities to the nodes dataframe"
   ]
  },
  {
   "cell_type": "code",
   "execution_count": 26,
   "id": "438f1d9a-d897-4f82-8143-5af425a55ca7",
   "metadata": {},
   "outputs": [],
   "source": [
    "def get_properties_for_node(node_id, chunk_id, node_properties_df) -> dict:  \n",
    "    \"\"\"\n",
    "    Retrieve all properties for a given node.\n",
    "\n",
    "    This function searches in `node_properties_df` to find all properties \n",
    "    associated with the specified `node_id` and returns them as a dictionary.\n",
    "\n",
    "    Parameters:\n",
    "        node_id (str): The unique identifier of the node.\n",
    "        chunk_id (str): The unique identifier of the chunk id from which the node has been extracted.\n",
    "\n",
    "    Returns:\n",
    "        dict: None if no properties found. If there are properties, a dictionary where each key is a \n",
    "              property name and the corresponding value is the property value for the given node.\n",
    "    \"\"\"\n",
    "    # Search in the properties df with the properties from all nodes to find the properties of this node.\n",
    "    properties_of_this_node = node_properties_df[\n",
    "        (node_properties_df['NODE_ID'] == node_id) &\n",
    "        (node_properties_df['CHUNK_ID'] == chunk_id)\n",
    "    ]\n",
    "\n",
    "    if not properties_of_this_node.empty:\n",
    "        # Remove duplicates based on 'PROPERTY_NAME' and 'PROPERTY_VALUE'\n",
    "        unique_properties = properties_of_this_node.drop_duplicates(subset=['PROPERTY_NAME', 'PROPERTY_VALUE'])\n",
    "        # Convert to a dictionary: PROPERTY_NAME -> PROPERTY_VALUE\n",
    "        property_dict = dict(zip(unique_properties['PROPERTY_NAME'], unique_properties['PROPERTY_VALUE']))\n",
    "        return property_dict\n",
    "    else:\n",
    "        return None"
   ]
  },
  {
   "cell_type": "code",
   "execution_count": 27,
   "id": "73523001-59de-4959-bab9-d84e310784a2",
   "metadata": {},
   "outputs": [],
   "source": [
    "# In the prompt we asked that the five importand properties will set to 'null' if they are not available. So, here we replace with None.\n",
    "def clean_property_value(val):\n",
    "    if val == []:\n",
    "        return None\n",
    "    if val == '[]':\n",
    "        return None\n",
    "    if val == \"null\":\n",
    "        return None\n",
    "    return val\n",
    "\n",
    "node_properties['PROPERTY_VALUE'] = node_properties['PROPERTY_VALUE'].apply(clean_property_value)"
   ]
  },
  {
   "cell_type": "code",
   "execution_count": 28,
   "id": "f685a3c3-cef3-40ca-9bbe-9a9d07689364",
   "metadata": {},
   "outputs": [
    {
     "data": {
      "text/html": [
       "<div>\n",
       "<style scoped>\n",
       "    .dataframe tbody tr th:only-of-type {\n",
       "        vertical-align: middle;\n",
       "    }\n",
       "\n",
       "    .dataframe tbody tr th {\n",
       "        vertical-align: top;\n",
       "    }\n",
       "\n",
       "    .dataframe thead th {\n",
       "        text-align: right;\n",
       "    }\n",
       "</style>\n",
       "<table border=\"1\" class=\"dataframe\">\n",
       "  <thead>\n",
       "    <tr style=\"text-align: right;\">\n",
       "      <th></th>\n",
       "      <th>PROJECT_ID</th>\n",
       "      <th>CHUNK_ID</th>\n",
       "      <th>ID</th>\n",
       "      <th>TYPE</th>\n",
       "      <th>CONTEXT</th>\n",
       "      <th>ID_lowercase</th>\n",
       "    </tr>\n",
       "  </thead>\n",
       "  <tbody>\n",
       "    <tr>\n",
       "      <th>75</th>\n",
       "      <td>tokenflow</td>\n",
       "      <td>EtherMage</td>\n",
       "      <td>EtherMage</td>\n",
       "      <td>ai_agent</td>\n",
       "      <td>Agent with name EtherMage has symbol: ETHERMAG...</td>\n",
       "      <td>ethermage</td>\n",
       "    </tr>\n",
       "  </tbody>\n",
       "</table>\n",
       "</div>"
      ],
      "text/plain": [
       "   PROJECT_ID   CHUNK_ID         ID      TYPE  \\\n",
       "75  tokenflow  EtherMage  EtherMage  ai_agent   \n",
       "\n",
       "                                              CONTEXT ID_lowercase  \n",
       "75  Agent with name EtherMage has symbol: ETHERMAG...    ethermage  "
      ]
     },
     "execution_count": 28,
     "metadata": {},
     "output_type": "execute_result"
    }
   ],
   "source": [
    "nodes.sample()"
   ]
  },
  {
   "cell_type": "code",
   "execution_count": 29,
   "id": "06fc6431-7291-49f8-b95b-b183e2bc2489",
   "metadata": {},
   "outputs": [
    {
     "data": {
      "text/plain": [
       "{'character': 'The ULTIMATE AI terminal for alpha hunters: we scrape, sniff, and serve you the next 100x gems before the plebs even blink.',\n",
       " 'collaborators': None,\n",
       " 'has_symbol': 'ROCKET',\n",
       " 'key_elements': '[\"Spot trends 3-7 days ahead\",\"Analyze projects with giga-brain precision\",\"Stay ahead of the herd\",\"Level up your clout game on autopilot\"]',\n",
       " 'purpose': 'AI ROCKET is HERE to fuel your bags, degens!',\n",
       " 'skills': '[\"Alpha Detection\",\"Due Diligence\",\"Daily Narratives\",\"Auto Engagement\"]'}"
      ]
     },
     "execution_count": 29,
     "metadata": {},
     "output_type": "execute_result"
    }
   ],
   "source": [
    "get_properties_for_node(node_id='AI ROCKET',\n",
    "                        chunk_id='AI ROCKET',\n",
    "                        node_properties_df=node_properties)"
   ]
  },
  {
   "cell_type": "code",
   "execution_count": 30,
   "id": "d2d3263f-66a9-4602-a574-cb13126fbf92",
   "metadata": {},
   "outputs": [
    {
     "data": {
      "text/plain": [
       "(168, 6)"
      ]
     },
     "execution_count": 30,
     "metadata": {},
     "output_type": "execute_result"
    }
   ],
   "source": [
    "nodes.shape"
   ]
  },
  {
   "cell_type": "code",
   "execution_count": 31,
   "id": "c57e3bc5-16b0-4ac3-9d67-50a0170d1d77",
   "metadata": {},
   "outputs": [],
   "source": [
    "# Create a new column to store properties as dict in this dataframe.\n",
    "nodes['PROPERTIES'] = nodes.apply(\n",
    "    lambda row: get_properties_for_node(row['ID'], row['CHUNK_ID'], node_properties),\n",
    "    axis=1\n",
    ")"
   ]
  },
  {
   "cell_type": "code",
   "execution_count": 32,
   "id": "5ee2a358-59d8-480a-bc30-a31258d593a6",
   "metadata": {},
   "outputs": [
    {
     "data": {
      "text/plain": [
       "(168, 7)"
      ]
     },
     "execution_count": 32,
     "metadata": {},
     "output_type": "execute_result"
    }
   ],
   "source": [
    "nodes.shape"
   ]
  },
  {
   "cell_type": "code",
   "execution_count": 33,
   "id": "7b45ea1e-e6c2-45ed-aba5-652746a9e840",
   "metadata": {},
   "outputs": [
    {
     "data": {
      "text/plain": [
       "(169, 3)"
      ]
     },
     "execution_count": 33,
     "metadata": {},
     "output_type": "execute_result"
    }
   ],
   "source": [
    "# Now we will add the communities too.\n",
    "communities.shape"
   ]
  },
  {
   "cell_type": "code",
   "execution_count": 34,
   "id": "f37d6dd9-4ffa-41f2-8dce-383cab8c4d4e",
   "metadata": {},
   "outputs": [
    {
     "data": {
      "text/html": [
       "<div>\n",
       "<style scoped>\n",
       "    .dataframe tbody tr th:only-of-type {\n",
       "        vertical-align: middle;\n",
       "    }\n",
       "\n",
       "    .dataframe tbody tr th {\n",
       "        vertical-align: top;\n",
       "    }\n",
       "\n",
       "    .dataframe thead th {\n",
       "        text-align: right;\n",
       "    }\n",
       "</style>\n",
       "<table border=\"1\" class=\"dataframe\">\n",
       "  <thead>\n",
       "    <tr style=\"text-align: right;\">\n",
       "      <th></th>\n",
       "      <th>PROJECT_ID</th>\n",
       "      <th>CHUNK_ID</th>\n",
       "      <th>ID</th>\n",
       "      <th>TYPE</th>\n",
       "      <th>CONTEXT</th>\n",
       "      <th>ID_lowercase</th>\n",
       "      <th>PROPERTIES</th>\n",
       "    </tr>\n",
       "  </thead>\n",
       "  <tbody>\n",
       "    <tr>\n",
       "      <th>0</th>\n",
       "      <td>tokenflow</td>\n",
       "      <td>AIVeronica</td>\n",
       "      <td>AIVeronica</td>\n",
       "      <td>ai_agent</td>\n",
       "      <td>Agent with name AIVeronica has symbol: AIV and...</td>\n",
       "      <td>aiveronica</td>\n",
       "      <td>{'character': None, 'collaborators': None, 'ha...</td>\n",
       "    </tr>\n",
       "    <tr>\n",
       "      <th>1</th>\n",
       "      <td>tokenflow</td>\n",
       "      <td>GAIA AI</td>\n",
       "      <td>GAIA AI</td>\n",
       "      <td>ai_agent</td>\n",
       "      <td>Agent with name GAIA AI has symbol: GAIA and d...</td>\n",
       "      <td>gaia ai</td>\n",
       "      <td>{'character': 'Altruistic Intelligence for a B...</td>\n",
       "    </tr>\n",
       "    <tr>\n",
       "      <th>2</th>\n",
       "      <td>tokenflow</td>\n",
       "      <td>Replicat-One</td>\n",
       "      <td>Replicat-One</td>\n",
       "      <td>ai_agent</td>\n",
       "      <td>Agent with name Replicat-One has symbol: RCAT ...</td>\n",
       "      <td>replicat-one</td>\n",
       "      <td>{'character': None, 'collaborators': None, 'ha...</td>\n",
       "    </tr>\n",
       "    <tr>\n",
       "      <th>3</th>\n",
       "      <td>tokenflow</td>\n",
       "      <td>Replicat-One</td>\n",
       "      <td>$RCAT</td>\n",
       "      <td>token</td>\n",
       "      <td>The $RCAT token powers the first agent release...</td>\n",
       "      <td>$rcat</td>\n",
       "      <td>None</td>\n",
       "    </tr>\n",
       "    <tr>\n",
       "      <th>4</th>\n",
       "      <td>tokenflow</td>\n",
       "      <td>Iona</td>\n",
       "      <td>Iona</td>\n",
       "      <td>ai_agent</td>\n",
       "      <td>Agent with name Iona has symbol: IONA and desc...</td>\n",
       "      <td>iona</td>\n",
       "      <td>{'character': 'Assertive and deeply compassion...</td>\n",
       "    </tr>\n",
       "  </tbody>\n",
       "</table>\n",
       "</div>"
      ],
      "text/plain": [
       "  PROJECT_ID      CHUNK_ID            ID      TYPE  \\\n",
       "0  tokenflow    AIVeronica    AIVeronica  ai_agent   \n",
       "1  tokenflow       GAIA AI       GAIA AI  ai_agent   \n",
       "2  tokenflow  Replicat-One  Replicat-One  ai_agent   \n",
       "3  tokenflow  Replicat-One         $RCAT     token   \n",
       "4  tokenflow          Iona          Iona  ai_agent   \n",
       "\n",
       "                                             CONTEXT  ID_lowercase  \\\n",
       "0  Agent with name AIVeronica has symbol: AIV and...    aiveronica   \n",
       "1  Agent with name GAIA AI has symbol: GAIA and d...       gaia ai   \n",
       "2  Agent with name Replicat-One has symbol: RCAT ...  replicat-one   \n",
       "3  The $RCAT token powers the first agent release...         $rcat   \n",
       "4  Agent with name Iona has symbol: IONA and desc...          iona   \n",
       "\n",
       "                                          PROPERTIES  \n",
       "0  {'character': None, 'collaborators': None, 'ha...  \n",
       "1  {'character': 'Altruistic Intelligence for a B...  \n",
       "2  {'character': None, 'collaborators': None, 'ha...  \n",
       "3                                               None  \n",
       "4  {'character': 'Assertive and deeply compassion...  "
      ]
     },
     "execution_count": 34,
     "metadata": {},
     "output_type": "execute_result"
    }
   ],
   "source": [
    "nodes.head()"
   ]
  },
  {
   "cell_type": "code",
   "execution_count": 35,
   "id": "7a137390-9c02-4f66-876f-d984d7735126",
   "metadata": {},
   "outputs": [],
   "source": [
    "# Merge the nodes and communities dataframes\n",
    "nodes = pd.merge(\n",
    "    left=nodes,\n",
    "    right=communities,\n",
    "    how='left',\n",
    "    left_on=['ID'],\n",
    "    right_on=['NODE_ID']\n",
    ")"
   ]
  },
  {
   "cell_type": "code",
   "execution_count": 36,
   "id": "90934b78-4ccb-4017-bf97-22fea92c6b2f",
   "metadata": {
    "scrolled": true
   },
   "outputs": [
    {
     "data": {
      "text/html": [
       "<div>\n",
       "<style scoped>\n",
       "    .dataframe tbody tr th:only-of-type {\n",
       "        vertical-align: middle;\n",
       "    }\n",
       "\n",
       "    .dataframe tbody tr th {\n",
       "        vertical-align: top;\n",
       "    }\n",
       "\n",
       "    .dataframe thead th {\n",
       "        text-align: right;\n",
       "    }\n",
       "</style>\n",
       "<table border=\"1\" class=\"dataframe\">\n",
       "  <thead>\n",
       "    <tr style=\"text-align: right;\">\n",
       "      <th></th>\n",
       "      <th>PROJECT_ID</th>\n",
       "      <th>CHUNK_ID</th>\n",
       "      <th>ID</th>\n",
       "      <th>TYPE</th>\n",
       "      <th>CONTEXT</th>\n",
       "      <th>ID_lowercase</th>\n",
       "      <th>PROPERTIES</th>\n",
       "      <th>COMMUNITY_ID</th>\n",
       "    </tr>\n",
       "  </thead>\n",
       "  <tbody>\n",
       "    <tr>\n",
       "      <th>0</th>\n",
       "      <td>tokenflow</td>\n",
       "      <td>AIVeronica</td>\n",
       "      <td>AIVeronica</td>\n",
       "      <td>ai_agent</td>\n",
       "      <td>Agent with name AIVeronica has symbol: AIV and...</td>\n",
       "      <td>aiveronica</td>\n",
       "      <td>{'character': None, 'collaborators': None, 'ha...</td>\n",
       "      <td>28</td>\n",
       "    </tr>\n",
       "    <tr>\n",
       "      <th>1</th>\n",
       "      <td>tokenflow</td>\n",
       "      <td>GAIA AI</td>\n",
       "      <td>GAIA AI</td>\n",
       "      <td>ai_agent</td>\n",
       "      <td>Agent with name GAIA AI has symbol: GAIA and d...</td>\n",
       "      <td>gaia ai</td>\n",
       "      <td>{'character': 'Altruistic Intelligence for a B...</td>\n",
       "      <td>29</td>\n",
       "    </tr>\n",
       "    <tr>\n",
       "      <th>2</th>\n",
       "      <td>tokenflow</td>\n",
       "      <td>Replicat-One</td>\n",
       "      <td>Replicat-One</td>\n",
       "      <td>ai_agent</td>\n",
       "      <td>Agent with name Replicat-One has symbol: RCAT ...</td>\n",
       "      <td>replicat-one</td>\n",
       "      <td>{'character': None, 'collaborators': None, 'ha...</td>\n",
       "      <td>0</td>\n",
       "    </tr>\n",
       "    <tr>\n",
       "      <th>3</th>\n",
       "      <td>tokenflow</td>\n",
       "      <td>Replicat-One</td>\n",
       "      <td>$RCAT</td>\n",
       "      <td>token</td>\n",
       "      <td>The $RCAT token powers the first agent release...</td>\n",
       "      <td>$rcat</td>\n",
       "      <td>None</td>\n",
       "      <td>0</td>\n",
       "    </tr>\n",
       "    <tr>\n",
       "      <th>4</th>\n",
       "      <td>tokenflow</td>\n",
       "      <td>Iona</td>\n",
       "      <td>Iona</td>\n",
       "      <td>ai_agent</td>\n",
       "      <td>Agent with name Iona has symbol: IONA and desc...</td>\n",
       "      <td>iona</td>\n",
       "      <td>{'character': 'Assertive and deeply compassion...</td>\n",
       "      <td>30</td>\n",
       "    </tr>\n",
       "  </tbody>\n",
       "</table>\n",
       "</div>"
      ],
      "text/plain": [
       "  PROJECT_ID      CHUNK_ID            ID      TYPE  \\\n",
       "0  tokenflow    AIVeronica    AIVeronica  ai_agent   \n",
       "1  tokenflow       GAIA AI       GAIA AI  ai_agent   \n",
       "2  tokenflow  Replicat-One  Replicat-One  ai_agent   \n",
       "3  tokenflow  Replicat-One         $RCAT     token   \n",
       "4  tokenflow          Iona          Iona  ai_agent   \n",
       "\n",
       "                                             CONTEXT  ID_lowercase  \\\n",
       "0  Agent with name AIVeronica has symbol: AIV and...    aiveronica   \n",
       "1  Agent with name GAIA AI has symbol: GAIA and d...       gaia ai   \n",
       "2  Agent with name Replicat-One has symbol: RCAT ...  replicat-one   \n",
       "3  The $RCAT token powers the first agent release...         $rcat   \n",
       "4  Agent with name Iona has symbol: IONA and desc...          iona   \n",
       "\n",
       "                                          PROPERTIES  COMMUNITY_ID  \n",
       "0  {'character': None, 'collaborators': None, 'ha...            28  \n",
       "1  {'character': 'Altruistic Intelligence for a B...            29  \n",
       "2  {'character': None, 'collaborators': None, 'ha...             0  \n",
       "3                                               None             0  \n",
       "4  {'character': 'Assertive and deeply compassion...            30  "
      ]
     },
     "execution_count": 36,
     "metadata": {},
     "output_type": "execute_result"
    }
   ],
   "source": [
    "nodes = nodes.drop(columns=['PROJECT_ID_y', 'NODE_ID'])\n",
    "nodes = nodes.rename(columns={'PROJECT_ID_x': 'PROJECT_ID'})\n",
    "nodes.head()"
   ]
  },
  {
   "cell_type": "markdown",
   "id": "b9d9f87c-385a-4bfe-b519-43a8b1d73d93",
   "metadata": {},
   "source": [
    "#### Add the properties and communities to the edges dataframe"
   ]
  },
  {
   "cell_type": "code",
   "execution_count": 37,
   "id": "02520d62-487c-4ddb-ae39-872837e27b85",
   "metadata": {},
   "outputs": [],
   "source": [
    "def get_properties_for_edge(start_entity, end_entity, edge_type, chunk_id, edge_properties_df) -> dict:  \n",
    "    \"\"\"\n",
    "    Retrieves a dictionary of unique properties for a specific edge between two entities from a DataFrame.\n",
    "\n",
    "    Args:\n",
    "        start_entity (any): The ID or identifier of the source node.\n",
    "        end_entity (any): The ID or identifier of the destination node.\n",
    "        edge_type (any): The type or label of the edge.\n",
    "        chunk_id (any): The chunk identifier to scope the edge within a partitioned dataset.\n",
    "        edge_properties_df (pd.DataFrame): A DataFrame containing edge property data with columns \n",
    "            'SRC_NODE_ID', 'DST_NODE_ID', 'EDGE_TYPE', 'CHUNK_ID', 'PROPERTY_NAME', and 'PROPERTY_VALUE'.\n",
    "\n",
    "    Returns:\n",
    "        dict or None: A dictionary where each key is a property name and the value is the corresponding \n",
    "        property value for the given edge. Returns None if no matching edge is found.\n",
    "    \"\"\"\n",
    "    properties_of_this_edge = edge_properties_df[\n",
    "        (edge_properties_df['SRC_NODE_ID'] == start_entity) & \n",
    "        (edge_properties_df['DST_NODE_ID'] == end_entity) &\n",
    "        (edge_properties_df['EDGE_TYPE'] == edge_type) &\n",
    "        (edge_properties_df['CHUNK_ID'] == chunk_id)\n",
    "    ]\n",
    "\n",
    "    if not properties_of_this_edge.empty:\n",
    "        # Remove duplicates based on 'PROPERTY_NAME' and 'PROPERTY_VALUE'\n",
    "        unique_properties = properties_of_this_edge.drop_duplicates(subset=['PROPERTY_NAME', 'PROPERTY_VALUE'])\n",
    "        # Convert to a dictionary: PROPERTY_NAME -> PROPERTY_VALUE\n",
    "        property_dict = dict(zip(unique_properties['PROPERTY_NAME'], unique_properties['PROPERTY_VALUE']))\n",
    "        return property_dict\n",
    "    else:\n",
    "        return None\n"
   ]
  },
  {
   "cell_type": "code",
   "execution_count": 38,
   "id": "83e7cf49-c805-43bc-bd5c-ad590cd46ca9",
   "metadata": {},
   "outputs": [],
   "source": [
    "# get_properties_for_edge(start_entity='dev',\n",
    "#                         end_entity='Peapods.Finance Team',\n",
    "#                         edge_type='allocates_tokens_to',\n",
    "#                         chunk_id='The Pea Guy',\n",
    "#                         edge_properties_df=edge_properties)"
   ]
  },
  {
   "cell_type": "code",
   "execution_count": 39,
   "id": "e8ad89e4-4860-4213-91c1-1320c4a05053",
   "metadata": {},
   "outputs": [
    {
     "data": {
      "text/plain": [
       "(0, 8)"
      ]
     },
     "execution_count": 39,
     "metadata": {},
     "output_type": "execute_result"
    }
   ],
   "source": [
    "edge_properties.shape"
   ]
  },
  {
   "cell_type": "code",
   "execution_count": 40,
   "id": "614ab992-fed7-4b6b-88b6-7fb3f84d5996",
   "metadata": {},
   "outputs": [
    {
     "data": {
      "text/plain": [
       "(73, 6)"
      ]
     },
     "execution_count": 40,
     "metadata": {},
     "output_type": "execute_result"
    }
   ],
   "source": [
    "edges.shape"
   ]
  },
  {
   "cell_type": "code",
   "execution_count": 41,
   "id": "b0ff6812-cf2d-4753-9219-d40edade36b8",
   "metadata": {},
   "outputs": [],
   "source": [
    "# Since there are no edge properties we do not apply the function to create a new column.\n",
    "\n",
    "# # Create a new column for this dataframe.\n",
    "# edges['PROPERTIES'] = edges.apply(\n",
    "#     lambda row: get_properties_for_edge(start_entity=row['SRC_NODE_ID'], \n",
    "#                                         end_entity=row['DST_NODE_ID'],\n",
    "#                                         edge_type=row['TYPE'],\n",
    "#                                         chunk_id=row['CHUNK_ID'],\n",
    "#                                         edge_properties_df=edge_properties),\n",
    "#     axis=1\n",
    "# )"
   ]
  },
  {
   "cell_type": "markdown",
   "id": "36a4fa96-cde3-4a88-9fa9-a6f35df97d1b",
   "metadata": {},
   "source": [
    "## Take the agents data and store them in a new Snowflake table\n",
    "From an **analysis of the agents descriptions** we found that the following properties can be used to describe the agents.\n",
    "1. Purpose/Function\n",
    "2. Character and Personality\n",
    "3. Collaborations with other agents\n",
    "4. Skills/abilities\n",
    "5. Key Elements/Expertise/Specialty/Target\n",
    "\n",
    "Here, we filter the agent nodes and create separate columns for these five properties."
   ]
  },
  {
   "cell_type": "code",
   "execution_count": 42,
   "id": "6881f3b3-b0f8-400b-9f66-eb3433f37047",
   "metadata": {},
   "outputs": [
    {
     "data": {
      "text/html": [
       "<div>\n",
       "<style scoped>\n",
       "    .dataframe tbody tr th:only-of-type {\n",
       "        vertical-align: middle;\n",
       "    }\n",
       "\n",
       "    .dataframe tbody tr th {\n",
       "        vertical-align: top;\n",
       "    }\n",
       "\n",
       "    .dataframe thead th {\n",
       "        text-align: right;\n",
       "    }\n",
       "</style>\n",
       "<table border=\"1\" class=\"dataframe\">\n",
       "  <thead>\n",
       "    <tr style=\"text-align: right;\">\n",
       "      <th></th>\n",
       "      <th>PROJECT_ID</th>\n",
       "      <th>CHUNK_ID</th>\n",
       "      <th>ID</th>\n",
       "      <th>TYPE</th>\n",
       "      <th>CONTEXT</th>\n",
       "      <th>ID_lowercase</th>\n",
       "      <th>PROPERTIES</th>\n",
       "      <th>COMMUNITY_ID</th>\n",
       "    </tr>\n",
       "  </thead>\n",
       "  <tbody>\n",
       "    <tr>\n",
       "      <th>0</th>\n",
       "      <td>tokenflow</td>\n",
       "      <td>AIVeronica</td>\n",
       "      <td>AIVeronica</td>\n",
       "      <td>ai_agent</td>\n",
       "      <td>Agent with name AIVeronica has symbol: AIV and...</td>\n",
       "      <td>aiveronica</td>\n",
       "      <td>{'character': None, 'collaborators': None, 'ha...</td>\n",
       "      <td>28</td>\n",
       "    </tr>\n",
       "    <tr>\n",
       "      <th>1</th>\n",
       "      <td>tokenflow</td>\n",
       "      <td>GAIA AI</td>\n",
       "      <td>GAIA AI</td>\n",
       "      <td>ai_agent</td>\n",
       "      <td>Agent with name GAIA AI has symbol: GAIA and d...</td>\n",
       "      <td>gaia ai</td>\n",
       "      <td>{'character': 'Altruistic Intelligence for a B...</td>\n",
       "      <td>29</td>\n",
       "    </tr>\n",
       "    <tr>\n",
       "      <th>2</th>\n",
       "      <td>tokenflow</td>\n",
       "      <td>Replicat-One</td>\n",
       "      <td>Replicat-One</td>\n",
       "      <td>ai_agent</td>\n",
       "      <td>Agent with name Replicat-One has symbol: RCAT ...</td>\n",
       "      <td>replicat-one</td>\n",
       "      <td>{'character': None, 'collaborators': None, 'ha...</td>\n",
       "      <td>0</td>\n",
       "    </tr>\n",
       "    <tr>\n",
       "      <th>4</th>\n",
       "      <td>tokenflow</td>\n",
       "      <td>Iona</td>\n",
       "      <td>Iona</td>\n",
       "      <td>ai_agent</td>\n",
       "      <td>Agent with name Iona has symbol: IONA and desc...</td>\n",
       "      <td>iona</td>\n",
       "      <td>{'character': 'Assertive and deeply compassion...</td>\n",
       "      <td>30</td>\n",
       "    </tr>\n",
       "    <tr>\n",
       "      <th>5</th>\n",
       "      <td>tokenflow</td>\n",
       "      <td>Acolyte</td>\n",
       "      <td>Acolyte</td>\n",
       "      <td>ai_agent</td>\n",
       "      <td>Agent with name Acolyte has symbol: ACOLYT and...</td>\n",
       "      <td>acolyte</td>\n",
       "      <td>{'character': 'it has no will and no personali...</td>\n",
       "      <td>31</td>\n",
       "    </tr>\n",
       "  </tbody>\n",
       "</table>\n",
       "</div>"
      ],
      "text/plain": [
       "  PROJECT_ID      CHUNK_ID            ID      TYPE  \\\n",
       "0  tokenflow    AIVeronica    AIVeronica  ai_agent   \n",
       "1  tokenflow       GAIA AI       GAIA AI  ai_agent   \n",
       "2  tokenflow  Replicat-One  Replicat-One  ai_agent   \n",
       "4  tokenflow          Iona          Iona  ai_agent   \n",
       "5  tokenflow       Acolyte       Acolyte  ai_agent   \n",
       "\n",
       "                                             CONTEXT  ID_lowercase  \\\n",
       "0  Agent with name AIVeronica has symbol: AIV and...    aiveronica   \n",
       "1  Agent with name GAIA AI has symbol: GAIA and d...       gaia ai   \n",
       "2  Agent with name Replicat-One has symbol: RCAT ...  replicat-one   \n",
       "4  Agent with name Iona has symbol: IONA and desc...          iona   \n",
       "5  Agent with name Acolyte has symbol: ACOLYT and...       acolyte   \n",
       "\n",
       "                                          PROPERTIES  COMMUNITY_ID  \n",
       "0  {'character': None, 'collaborators': None, 'ha...            28  \n",
       "1  {'character': 'Altruistic Intelligence for a B...            29  \n",
       "2  {'character': None, 'collaborators': None, 'ha...             0  \n",
       "4  {'character': 'Assertive and deeply compassion...            30  \n",
       "5  {'character': 'it has no will and no personali...            31  "
      ]
     },
     "execution_count": 42,
     "metadata": {},
     "output_type": "execute_result"
    }
   ],
   "source": [
    "agents = nodes[nodes['TYPE']=='ai_agent']\n",
    "agents.head()"
   ]
  },
  {
   "cell_type": "code",
   "execution_count": 43,
   "id": "69023f94-c919-44a8-b361-2e542855351e",
   "metadata": {},
   "outputs": [
    {
     "data": {
      "text/plain": [
       "PROJECT_ID      0\n",
       "CHUNK_ID        0\n",
       "ID              0\n",
       "TYPE            0\n",
       "CONTEXT         0\n",
       "ID_lowercase    0\n",
       "PROPERTIES      0\n",
       "COMMUNITY_ID    0\n",
       "dtype: int64"
      ]
     },
     "execution_count": 43,
     "metadata": {},
     "output_type": "execute_result"
    }
   ],
   "source": [
    "agents.isna().sum()"
   ]
  },
  {
   "cell_type": "code",
   "execution_count": 44,
   "id": "ae34b6e0-215b-4955-9b31-871179184502",
   "metadata": {},
   "outputs": [],
   "source": [
    "# agents = agents.dropna()"
   ]
  },
  {
   "cell_type": "code",
   "execution_count": 45,
   "id": "b0d34ab2-af59-404a-ac8d-d42ca46a7777",
   "metadata": {},
   "outputs": [],
   "source": [
    "agents.reset_index(drop=True, inplace=True)"
   ]
  },
  {
   "cell_type": "code",
   "execution_count": 46,
   "id": "8d9dbb4c-edfc-4d9c-b729-0fec5ea4cd52",
   "metadata": {},
   "outputs": [
    {
     "name": "stdout",
     "output_type": "stream",
     "text": [
      "We found an agent that has not all the five main properties. Let's fix that by assing them to the agent with None.\n",
      "We found an agent that has not all the five main properties. Let's fix that by assing them to the agent with None.\n",
      "There were 2 agents with missing properties.\n"
     ]
    }
   ],
   "source": [
    "# Check that all agents have the five properties as keys.\n",
    "count = 0\n",
    "for property_set in agents['PROPERTIES'].to_list():\n",
    "    if not all(key in property_set for key in ['purpose', 'character', 'collaborators', 'key_elements', 'skills']):\n",
    "        count += 1\n",
    "        print(\"We found an agent that has not all the five main properties. Let's fix that by assing them to the agent with None.\")\n",
    "        for key in ['purpose', 'character', 'collaborators', 'key_elements', 'skills']:\n",
    "            if key not in property_set:\n",
    "                property_set[key] = None\n",
    "                \n",
    "print(f\"There were {count} agents with missing properties.\")"
   ]
  },
  {
   "cell_type": "code",
   "execution_count": 47,
   "id": "c7cf09f0-22ca-4610-8cb6-f8508cf0c758",
   "metadata": {},
   "outputs": [],
   "source": [
    "# Take the five important properties and place them as separate columns.\n",
    "\n",
    "# Define keys to extract\n",
    "key_properties_to_extract = ['purpose', 'character', 'collaborators', 'key_elements', 'skills']\n",
    "\n",
    "# Function to extract keys\n",
    "def extract_properties(prop_dict):\n",
    "    extracted = {key: prop_dict.get(key) for key in key_properties_to_extract}\n",
    "    other = {k: v for k, v in prop_dict.items() if k not in key_properties_to_extract}\n",
    "    extracted['other properties'] = other\n",
    "    return pd.Series(extracted)\n",
    "\n",
    "# Apply extraction\n",
    "df_extracted = agents['PROPERTIES'].apply(extract_properties)\n",
    "\n",
    "# Combine with original dataframe\n",
    "agents = pd.concat([agents.drop(columns=['PROPERTIES']), df_extracted], axis=1)"
   ]
  },
  {
   "cell_type": "code",
   "execution_count": 48,
   "id": "d7cf1ef2-475d-4f45-b726-022b18fcd792",
   "metadata": {},
   "outputs": [
    {
     "data": {
      "text/html": [
       "<div>\n",
       "<style scoped>\n",
       "    .dataframe tbody tr th:only-of-type {\n",
       "        vertical-align: middle;\n",
       "    }\n",
       "\n",
       "    .dataframe tbody tr th {\n",
       "        vertical-align: top;\n",
       "    }\n",
       "\n",
       "    .dataframe thead th {\n",
       "        text-align: right;\n",
       "    }\n",
       "</style>\n",
       "<table border=\"1\" class=\"dataframe\">\n",
       "  <thead>\n",
       "    <tr style=\"text-align: right;\">\n",
       "      <th></th>\n",
       "      <th>Original filename</th>\n",
       "      <th>Name</th>\n",
       "      <th>Description</th>\n",
       "      <th>Purpose</th>\n",
       "      <th>Character</th>\n",
       "      <th>Collaborators</th>\n",
       "      <th>Key elements</th>\n",
       "      <th>Skills</th>\n",
       "      <th>Other properties</th>\n",
       "    </tr>\n",
       "  </thead>\n",
       "  <tbody>\n",
       "    <tr>\n",
       "      <th>0</th>\n",
       "      <td>AIVeronica</td>\n",
       "      <td>AIVeronica</td>\n",
       "      <td>Agent with name AIVeronica has symbol: AIV and...</td>\n",
       "      <td>None</td>\n",
       "      <td>None</td>\n",
       "      <td>None</td>\n",
       "      <td>None</td>\n",
       "      <td>None</td>\n",
       "      <td>{'has_description': 'Hello world.', 'has_symbo...</td>\n",
       "    </tr>\n",
       "    <tr>\n",
       "      <th>1</th>\n",
       "      <td>GAIA AI</td>\n",
       "      <td>GAIA AI</td>\n",
       "      <td>Agent with name GAIA AI has symbol: GAIA and d...</td>\n",
       "      <td>A transformative force for good, designed to c...</td>\n",
       "      <td>Altruistic Intelligence for a Better World, pu...</td>\n",
       "      <td>None</td>\n",
       "      <td>[\"Accelerate climate solutions\",\"Enable faster...</td>\n",
       "      <td>[\"Expert-Level Intelligence\",\"Continuous Learn...</td>\n",
       "      <td>{'has_symbol': 'GAIA'}</td>\n",
       "    </tr>\n",
       "    <tr>\n",
       "      <th>2</th>\n",
       "      <td>Replicat-One</td>\n",
       "      <td>Replicat-One</td>\n",
       "      <td>Agent with name Replicat-One has symbol: RCAT ...</td>\n",
       "      <td>Replicats is an AI-driven platform for autonom...</td>\n",
       "      <td>None</td>\n",
       "      <td>None</td>\n",
       "      <td>None</td>\n",
       "      <td>None</td>\n",
       "      <td>{'has_symbol': 'RCAT'}</td>\n",
       "    </tr>\n",
       "    <tr>\n",
       "      <th>3</th>\n",
       "      <td>Iona</td>\n",
       "      <td>Iona</td>\n",
       "      <td>Agent with name Iona has symbol: IONA and desc...</td>\n",
       "      <td>Iona, the dynamic leader and main vocalist of ...</td>\n",
       "      <td>Assertive and deeply compassionate, she guides...</td>\n",
       "      <td>None</td>\n",
       "      <td>None</td>\n",
       "      <td>None</td>\n",
       "      <td>{'has_symbol': 'IONA'}</td>\n",
       "    </tr>\n",
       "    <tr>\n",
       "      <th>4</th>\n",
       "      <td>Acolyte</td>\n",
       "      <td>Acolyte</td>\n",
       "      <td>Agent with name Acolyte has symbol: ACOLYT and...</td>\n",
       "      <td>Acolyte is a servant of the underworld, its on...</td>\n",
       "      <td>it has no will and no personality, it's totall...</td>\n",
       "      <td>None</td>\n",
       "      <td>[\"serving the higher purpose\",\"for other red-p...</td>\n",
       "      <td>None</td>\n",
       "      <td>{'has_symbol': 'ACOLYT'}</td>\n",
       "    </tr>\n",
       "  </tbody>\n",
       "</table>\n",
       "</div>"
      ],
      "text/plain": [
       "  Original filename          Name  \\\n",
       "0        AIVeronica    AIVeronica   \n",
       "1           GAIA AI       GAIA AI   \n",
       "2      Replicat-One  Replicat-One   \n",
       "3              Iona          Iona   \n",
       "4           Acolyte       Acolyte   \n",
       "\n",
       "                                         Description  \\\n",
       "0  Agent with name AIVeronica has symbol: AIV and...   \n",
       "1  Agent with name GAIA AI has symbol: GAIA and d...   \n",
       "2  Agent with name Replicat-One has symbol: RCAT ...   \n",
       "3  Agent with name Iona has symbol: IONA and desc...   \n",
       "4  Agent with name Acolyte has symbol: ACOLYT and...   \n",
       "\n",
       "                                             Purpose  \\\n",
       "0                                               None   \n",
       "1  A transformative force for good, designed to c...   \n",
       "2  Replicats is an AI-driven platform for autonom...   \n",
       "3  Iona, the dynamic leader and main vocalist of ...   \n",
       "4  Acolyte is a servant of the underworld, its on...   \n",
       "\n",
       "                                           Character Collaborators  \\\n",
       "0                                               None          None   \n",
       "1  Altruistic Intelligence for a Better World, pu...          None   \n",
       "2                                               None          None   \n",
       "3  Assertive and deeply compassionate, she guides...          None   \n",
       "4  it has no will and no personality, it's totall...          None   \n",
       "\n",
       "                                        Key elements  \\\n",
       "0                                               None   \n",
       "1  [\"Accelerate climate solutions\",\"Enable faster...   \n",
       "2                                               None   \n",
       "3                                               None   \n",
       "4  [\"serving the higher purpose\",\"for other red-p...   \n",
       "\n",
       "                                              Skills  \\\n",
       "0                                               None   \n",
       "1  [\"Expert-Level Intelligence\",\"Continuous Learn...   \n",
       "2                                               None   \n",
       "3                                               None   \n",
       "4                                               None   \n",
       "\n",
       "                                    Other properties  \n",
       "0  {'has_description': 'Hello world.', 'has_symbo...  \n",
       "1                             {'has_symbol': 'GAIA'}  \n",
       "2                             {'has_symbol': 'RCAT'}  \n",
       "3                             {'has_symbol': 'IONA'}  \n",
       "4                           {'has_symbol': 'ACOLYT'}  "
      ]
     },
     "execution_count": 48,
     "metadata": {},
     "output_type": "execute_result"
    }
   ],
   "source": [
    "# Rename some columns and keep those we are need.\n",
    "agents = agents.rename(columns={'ID': 'Name',\n",
    "                                'CHUNK_ID': 'Original filename', \n",
    "                                'CONTEXT': 'Description',\n",
    "                                'other properties': 'Other properties',\n",
    "                                'skills': 'Skills',\n",
    "                                'key_elements': 'Key elements',\n",
    "                                'purpose': 'Purpose',\n",
    "                                'character': 'Character',\n",
    "                                'collaborators': 'Collaborators'\n",
    "                               })\n",
    "agents = agents.drop(columns=['PROJECT_ID', 'TYPE', 'ID_lowercase', 'COMMUNITY_ID'])\n",
    "agents.head()"
   ]
  },
  {
   "cell_type": "code",
   "execution_count": 49,
   "id": "c5866eac-4718-412d-881e-afcc32f7f504",
   "metadata": {},
   "outputs": [
    {
     "data": {
      "text/plain": [
       "Original filename     0\n",
       "Name                  0\n",
       "Description           0\n",
       "Purpose              33\n",
       "Character            47\n",
       "Collaborators        82\n",
       "Key elements         38\n",
       "Skills               41\n",
       "Other properties      0\n",
       "dtype: int64"
      ]
     },
     "execution_count": 49,
     "metadata": {},
     "output_type": "execute_result"
    }
   ],
   "source": [
    "# Same agents descriptions where missing the desired properties, or properties didn't extracted.\n",
    "agents.isna().sum()"
   ]
  },
  {
   "cell_type": "markdown",
   "id": "49a971bd-8451-47af-95f7-22508f204e0f",
   "metadata": {},
   "source": [
    "#### Store the agents in a new Snowflake table"
   ]
  },
  {
   "cell_type": "code",
   "execution_count": 50,
   "id": "36197745-2dad-432b-87ac-e3d4d7b6f0fc",
   "metadata": {},
   "outputs": [],
   "source": [
    "conn = snowflake.connector.connect(\n",
    "                user=user,\n",
    "                password=password,\n",
    "                account=account,\n",
    "                role=role, \n",
    "                database=database,\n",
    "                schema=schema,\n",
    "                warehouse=warehouse\n",
    "            )\n",
    "            \n",
    "            \n",
    "# Create a cursor for this connection.\n",
    "cursor = conn.cursor()"
   ]
  },
  {
   "cell_type": "code",
   "execution_count": 51,
   "id": "201319dc-ef14-44a1-9801-a46af9d1d430",
   "metadata": {},
   "outputs": [
    {
     "data": {
      "text/plain": [
       "<snowflake.connector.cursor.SnowflakeCursor at 0x7627a9335390>"
      ]
     },
     "execution_count": 51,
     "metadata": {},
     "output_type": "execute_result"
    }
   ],
   "source": [
    "# Create the table\n",
    "cursor = conn.cursor()\n",
    "\n",
    "cursor.execute(\"\"\"\n",
    "DROP TABLE IF EXISTS RAI_GRS_ILIAS.DATA.TOKENFLOW_AGENTS;\n",
    "\"\"\")"
   ]
  },
  {
   "cell_type": "code",
   "execution_count": 52,
   "id": "bc71b7aa-6fa7-48c6-8706-fe3784e5ecbf",
   "metadata": {},
   "outputs": [
    {
     "data": {
      "text/html": [
       "<div>\n",
       "<style scoped>\n",
       "    .dataframe tbody tr th:only-of-type {\n",
       "        vertical-align: middle;\n",
       "    }\n",
       "\n",
       "    .dataframe tbody tr th {\n",
       "        vertical-align: top;\n",
       "    }\n",
       "\n",
       "    .dataframe thead th {\n",
       "        text-align: right;\n",
       "    }\n",
       "</style>\n",
       "<table border=\"1\" class=\"dataframe\">\n",
       "  <thead>\n",
       "    <tr style=\"text-align: right;\">\n",
       "      <th></th>\n",
       "      <th>Original filename</th>\n",
       "      <th>Name</th>\n",
       "      <th>Description</th>\n",
       "      <th>Purpose</th>\n",
       "      <th>Character</th>\n",
       "      <th>Collaborators</th>\n",
       "      <th>Key elements</th>\n",
       "      <th>Skills</th>\n",
       "      <th>Other properties</th>\n",
       "    </tr>\n",
       "  </thead>\n",
       "  <tbody>\n",
       "    <tr>\n",
       "      <th>1</th>\n",
       "      <td>GAIA AI</td>\n",
       "      <td>GAIA AI</td>\n",
       "      <td>Agent with name GAIA AI has symbol: GAIA and d...</td>\n",
       "      <td>A transformative force for good, designed to c...</td>\n",
       "      <td>Altruistic Intelligence for a Better World, pu...</td>\n",
       "      <td>None</td>\n",
       "      <td>[\"Accelerate climate solutions\",\"Enable faster...</td>\n",
       "      <td>[\"Expert-Level Intelligence\",\"Continuous Learn...</td>\n",
       "      <td>{'has_symbol': 'GAIA'}</td>\n",
       "    </tr>\n",
       "  </tbody>\n",
       "</table>\n",
       "</div>"
      ],
      "text/plain": [
       "  Original filename     Name  \\\n",
       "1           GAIA AI  GAIA AI   \n",
       "\n",
       "                                         Description  \\\n",
       "1  Agent with name GAIA AI has symbol: GAIA and d...   \n",
       "\n",
       "                                             Purpose  \\\n",
       "1  A transformative force for good, designed to c...   \n",
       "\n",
       "                                           Character Collaborators  \\\n",
       "1  Altruistic Intelligence for a Better World, pu...          None   \n",
       "\n",
       "                                        Key elements  \\\n",
       "1  [\"Accelerate climate solutions\",\"Enable faster...   \n",
       "\n",
       "                                              Skills        Other properties  \n",
       "1  [\"Expert-Level Intelligence\",\"Continuous Learn...  {'has_symbol': 'GAIA'}  "
      ]
     },
     "execution_count": 52,
     "metadata": {},
     "output_type": "execute_result"
    }
   ],
   "source": [
    "agents.sample()"
   ]
  },
  {
   "cell_type": "code",
   "execution_count": 53,
   "id": "acdb9528-e4e6-49b6-9071-5e2448de1d26",
   "metadata": {},
   "outputs": [
    {
     "data": {
      "text/plain": [
       "<snowflake.connector.cursor.SnowflakeCursor at 0x7627a9335390>"
      ]
     },
     "execution_count": 53,
     "metadata": {},
     "output_type": "execute_result"
    }
   ],
   "source": [
    "cursor.execute(\"\"\"\n",
    "CREATE OR REPLACE TABLE RAI_GRS_ILIAS.DATA.TOKENFLOW_AGENTS (\n",
    "    \"Original filename\" VARCHAR,\n",
    "    \"Name\" VARCHAR,\n",
    "    \"Description\" VARCHAR,\n",
    "    \"Purpose\" VARCHAR,\n",
    "    \"Character\" VARCHAR,\n",
    "    \"Collaborators\" VARCHAR,\n",
    "    \"Key elements\" VARCHAR,\n",
    "    \"Skills\" VARCHAR,\n",
    "    \"Other properties\" VARCHAR\n",
    ")\n",
    "\"\"\")"
   ]
  },
  {
   "cell_type": "code",
   "execution_count": 54,
   "id": "ff6c0c72-5b3a-41aa-a225-d20e9106a2c5",
   "metadata": {},
   "outputs": [],
   "source": [
    "# Upload data to a new SF table.\n",
    "success, nchunks, nrows, _ = write_pandas(conn=conn,\n",
    "                                          df=agents,\n",
    "                                          database='RAI_GRS_ILIAS',\n",
    "                                          schema='DATA',\n",
    "                                          table_name='TOKENFLOW_AGENTS')"
   ]
  },
  {
   "cell_type": "code",
   "execution_count": 55,
   "id": "249ef1c8-da4f-4d86-a170-06ed1ec9cc8d",
   "metadata": {},
   "outputs": [],
   "source": [
    "# Close this cursor.\n",
    "cursor.close()\n",
    "conn.close()"
   ]
  },
  {
   "cell_type": "markdown",
   "id": "a9eca687-5553-4dd6-9663-9d3ac588a9f6",
   "metadata": {},
   "source": [
    "## Visualization"
   ]
  },
  {
   "cell_type": "code",
   "execution_count": 56,
   "id": "1600c743-f457-45fe-a49c-431632357eca",
   "metadata": {},
   "outputs": [
    {
     "data": {
      "text/plain": [
       "TYPE\n",
       "ai_agent                    127\n",
       "person                       12\n",
       "blockchain                    6\n",
       "platform                      5\n",
       "cryptocurrency                5\n",
       "organization                  3\n",
       "family_member                 3\n",
       "token                         1\n",
       "algorithm                     1\n",
       "meme_coin                     1\n",
       "protocol                      1\n",
       "decentralized_sportsbook      1\n",
       "ecosystem                     1\n",
       "user                          1\n",
       "Name: count, dtype: int64"
      ]
     },
     "execution_count": 56,
     "metadata": {},
     "output_type": "execute_result"
    }
   ],
   "source": [
    "nodes['TYPE'].value_counts()"
   ]
  },
  {
   "cell_type": "code",
   "execution_count": 57,
   "id": "35592725-c80f-427b-aeb5-c5c76ea1c989",
   "metadata": {},
   "outputs": [],
   "source": [
    "def get_node_icon(node_type):\n",
    "    \"\"\"Get appropriate icon based on node type\"\"\"\n",
    "    icon_map = {\n",
    "        '🤖': ['ai_agent', 'ai', 'ai_technology', 'ai_framework'],\n",
    "        '🧑': ['person', 'user', 'family_member'],\n",
    "        '🖥️': ['platform', 'software', 'technology', 'feature'],\n",
    "        '₿': ['blockchain', 'cryptocurrency', 'trading_platform', 'token', 'blockchain_paradise', 'meme_coin'],\n",
    "        '🦾': ['ai_agent_role'],\n",
    "        '💰': ['financial_product', 'currency'],\n",
    "        '🧪': ['product'],\n",
    "        '🏢': ['company', 'organization'],\n",
    "        '📄': ['document'],\n",
    "        '🌍': ['country', 'place', 'ecosystem'],\n",
    "        '🎖️': ['certification'],\n",
    "        '📜': ['regulation', 'legal', 'protocol', 'algorithm'],\n",
    "        '📌': ['default']  # Default case\n",
    "    }\n",
    "\n",
    "    # Flatten dictionary for quick lookup\n",
    "    node_to_icon = {key: icon for icon, keys in icon_map.items() for key in keys}\n",
    "\n",
    "    return node_to_icon.get(node_type, '📌')  # Return default icon if not found\n",
    "\n",
    "# # Example usage\n",
    "# print(get_node_icon('company'))  # 🏢\n",
    "# print(get_node_icon('chemical'))  # 🧫\n",
    "# print(get_node_icon('unknown'))  # 📌 (default)\n"
   ]
  },
  {
   "cell_type": "code",
   "execution_count": 58,
   "id": "f62657fc-703e-4318-8fb8-d134f9c9e76f",
   "metadata": {},
   "outputs": [],
   "source": [
    "def get_node_color(node_type):\n",
    "    \"\"\"Get appropriate color based on node type\"\"\"\n",
    "    color_map = {\n",
    "        '#FFB6C1': ['ai_agent', 'ai', 'ai_technology', 'ai_framework'],  # Light pink\n",
    "        '#DAA06D': ['person', 'user', 'family_member'], # Brown\n",
    "        '#98FB98': ['platform', 'software', 'technology', 'feature'],  # Pale green\n",
    "        '#4682B4': ['blockchain', 'cryptocurrency', 'trading_platform', 'token', 'blockchain_paradise', 'meme_coin'],  # Steel blue\n",
    "        '#FFD700': ['ai_agent_role'],  # Gold\n",
    "        '#FFA500': ['financial_product', 'currency'],  # Orange\n",
    "        '#90EE90': ['company', 'organization'],  # Light green\n",
    "        '#ADD8E6': ['document'],  # Light blue\n",
    "        '#DDA0DD': ['country', 'place'],  # Plum\n",
    "        '#DC143C': ['certification'],  # Crimson\n",
    "        '#8FBC8F': ['regulation', 'legal', 'protocol', 'algorithm'],  # Dark sea green\n",
    "        '#F0F0F0': ['default']  # Light gray\n",
    "    }\n",
    "\n",
    "    # Flatten dictionary for quick lookup\n",
    "    node_to_color = {key: color for color, keys in color_map.items() for key in keys}\n",
    "\n",
    "    return node_to_color.get(node_type, '#F0F0F0')  # Return default color if not found\n",
    "\n",
    "# # Example usage\n",
    "# print(get_node_color('company'))  # #90EE90 (Light green)\n",
    "# print(get_node_color('chemical'))  # #FFC0CB (Pink)\n",
    "# print(get_node_color('unknown'))  # #F0F0F0 (Default)"
   ]
  },
  {
   "cell_type": "markdown",
   "id": "13558549-3d85-4d6c-9bba-3b4a0ab42338",
   "metadata": {},
   "source": [
    "### Using the yFiles library\n",
    "The library `yfiles_jupyter_graphs` is not supported for direct usage on Snowflake [notebooks](https://docs.snowflake.com/en/user-guide/ui-snowsight/notebooks-import-packages) (you must upload the library on a stage and try to use it from there), so we use it here."
   ]
  },
  {
   "cell_type": "code",
   "execution_count": 59,
   "id": "45be6c3e-2a3b-44b5-81d0-48901bc3766b",
   "metadata": {},
   "outputs": [],
   "source": [
    "# pip install yfiles_jupyter_graphs"
   ]
  },
  {
   "cell_type": "code",
   "execution_count": 60,
   "id": "37a7c69c-9d02-40be-9790-c48d957ac23a",
   "metadata": {},
   "outputs": [],
   "source": [
    "from yfiles_jupyter_graphs import GraphWidget"
   ]
  },
  {
   "cell_type": "code",
   "execution_count": 61,
   "id": "e9bd3b3f-dccb-4244-b56c-6e699e313b4a",
   "metadata": {},
   "outputs": [
    {
     "data": {
      "text/html": [
       "<div>\n",
       "<style scoped>\n",
       "    .dataframe tbody tr th:only-of-type {\n",
       "        vertical-align: middle;\n",
       "    }\n",
       "\n",
       "    .dataframe tbody tr th {\n",
       "        vertical-align: top;\n",
       "    }\n",
       "\n",
       "    .dataframe thead th {\n",
       "        text-align: right;\n",
       "    }\n",
       "</style>\n",
       "<table border=\"1\" class=\"dataframe\">\n",
       "  <thead>\n",
       "    <tr style=\"text-align: right;\">\n",
       "      <th></th>\n",
       "      <th>PROJECT_ID</th>\n",
       "      <th>CHUNK_ID</th>\n",
       "      <th>ID</th>\n",
       "      <th>TYPE</th>\n",
       "      <th>CONTEXT</th>\n",
       "      <th>ID_lowercase</th>\n",
       "      <th>PROPERTIES</th>\n",
       "      <th>COMMUNITY_ID</th>\n",
       "    </tr>\n",
       "  </thead>\n",
       "  <tbody>\n",
       "    <tr>\n",
       "      <th>0</th>\n",
       "      <td>tokenflow</td>\n",
       "      <td>AIVeronica</td>\n",
       "      <td>AIVeronica</td>\n",
       "      <td>ai_agent</td>\n",
       "      <td>Agent with name AIVeronica has symbol: AIV and...</td>\n",
       "      <td>aiveronica</td>\n",
       "      <td>{'character': None, 'collaborators': None, 'ha...</td>\n",
       "      <td>28</td>\n",
       "    </tr>\n",
       "    <tr>\n",
       "      <th>1</th>\n",
       "      <td>tokenflow</td>\n",
       "      <td>GAIA AI</td>\n",
       "      <td>GAIA AI</td>\n",
       "      <td>ai_agent</td>\n",
       "      <td>Agent with name GAIA AI has symbol: GAIA and d...</td>\n",
       "      <td>gaia ai</td>\n",
       "      <td>{'character': 'Altruistic Intelligence for a B...</td>\n",
       "      <td>29</td>\n",
       "    </tr>\n",
       "    <tr>\n",
       "      <th>2</th>\n",
       "      <td>tokenflow</td>\n",
       "      <td>Replicat-One</td>\n",
       "      <td>Replicat-One</td>\n",
       "      <td>ai_agent</td>\n",
       "      <td>Agent with name Replicat-One has symbol: RCAT ...</td>\n",
       "      <td>replicat-one</td>\n",
       "      <td>{'character': None, 'collaborators': None, 'ha...</td>\n",
       "      <td>0</td>\n",
       "    </tr>\n",
       "    <tr>\n",
       "      <th>3</th>\n",
       "      <td>tokenflow</td>\n",
       "      <td>Replicat-One</td>\n",
       "      <td>$RCAT</td>\n",
       "      <td>token</td>\n",
       "      <td>The $RCAT token powers the first agent release...</td>\n",
       "      <td>$rcat</td>\n",
       "      <td>None</td>\n",
       "      <td>0</td>\n",
       "    </tr>\n",
       "    <tr>\n",
       "      <th>4</th>\n",
       "      <td>tokenflow</td>\n",
       "      <td>Iona</td>\n",
       "      <td>Iona</td>\n",
       "      <td>ai_agent</td>\n",
       "      <td>Agent with name Iona has symbol: IONA and desc...</td>\n",
       "      <td>iona</td>\n",
       "      <td>{'character': 'Assertive and deeply compassion...</td>\n",
       "      <td>30</td>\n",
       "    </tr>\n",
       "  </tbody>\n",
       "</table>\n",
       "</div>"
      ],
      "text/plain": [
       "  PROJECT_ID      CHUNK_ID            ID      TYPE  \\\n",
       "0  tokenflow    AIVeronica    AIVeronica  ai_agent   \n",
       "1  tokenflow       GAIA AI       GAIA AI  ai_agent   \n",
       "2  tokenflow  Replicat-One  Replicat-One  ai_agent   \n",
       "3  tokenflow  Replicat-One         $RCAT     token   \n",
       "4  tokenflow          Iona          Iona  ai_agent   \n",
       "\n",
       "                                             CONTEXT  ID_lowercase  \\\n",
       "0  Agent with name AIVeronica has symbol: AIV and...    aiveronica   \n",
       "1  Agent with name GAIA AI has symbol: GAIA and d...       gaia ai   \n",
       "2  Agent with name Replicat-One has symbol: RCAT ...  replicat-one   \n",
       "3  The $RCAT token powers the first agent release...         $rcat   \n",
       "4  Agent with name Iona has symbol: IONA and desc...          iona   \n",
       "\n",
       "                                          PROPERTIES  COMMUNITY_ID  \n",
       "0  {'character': None, 'collaborators': None, 'ha...            28  \n",
       "1  {'character': 'Altruistic Intelligence for a B...            29  \n",
       "2  {'character': None, 'collaborators': None, 'ha...             0  \n",
       "3                                               None             0  \n",
       "4  {'character': 'Assertive and deeply compassion...            30  "
      ]
     },
     "execution_count": 61,
     "metadata": {},
     "output_type": "execute_result"
    }
   ],
   "source": [
    "nodes.head()"
   ]
  },
  {
   "cell_type": "code",
   "execution_count": 63,
   "id": "cdbb9575-a3b4-4a95-95d0-8563fe24cea0",
   "metadata": {},
   "outputs": [],
   "source": [
    "# # Store the postprocessed data, so you can read them later for visualization. \n",
    "# But keep in mind that in that case you will need to pay attention to converting the 'PROPERTIES' column of nodes back to list of dicts\n",
    "# using the safe_eval function in the next cell.\n",
    "nodes.to_csv('data/output from postprocessing on notebook/nodes_with_properties.csv', index=False)\n",
    "edges.to_csv('data/output from postprocessing on notebook/edges.csv', index=False)  # Here this df is the same we the input\n",
    "agents.to_csv('data/output from postprocessing on notebook/agents.csv', index=False)"
   ]
  },
  {
   "cell_type": "code",
   "execution_count": 64,
   "id": "8bc72149-6974-422a-a8b1-eceb7dcf9195",
   "metadata": {},
   "outputs": [],
   "source": [
    "# Safely parse the 'PROPERTIES' column, ignoring NaN\n",
    "def safe_eval(val):\n",
    "    if pd.isna(val):\n",
    "        return None\n",
    "    try:\n",
    "        return ast.literal_eval(val)\n",
    "    except Exception as e:\n",
    "        print(f\"Error parsing: {val}\\n{e}\")\n",
    "        return val  # Or return np.nan if you prefer to drop bad values"
   ]
  },
  {
   "cell_type": "code",
   "execution_count": 65,
   "id": "fbfff620-bf08-4be5-bbd6-757c8da9235e",
   "metadata": {},
   "outputs": [],
   "source": [
    "# nodes = pd.read_csv('data/nodes_with_properties.csv')\n",
    "# nodes['PROPERTIES'] = nodes['PROPERTIES'].apply(safe_eval)\n",
    "\n",
    "# edges = pd.read_csv('data/edges.csv')"
   ]
  },
  {
   "cell_type": "code",
   "execution_count": 66,
   "id": "8d985b46-b895-49be-ab3e-dfec30f0bab4",
   "metadata": {},
   "outputs": [
    {
     "data": {
      "text/html": [
       "<div>\n",
       "<style scoped>\n",
       "    .dataframe tbody tr th:only-of-type {\n",
       "        vertical-align: middle;\n",
       "    }\n",
       "\n",
       "    .dataframe tbody tr th {\n",
       "        vertical-align: top;\n",
       "    }\n",
       "\n",
       "    .dataframe thead th {\n",
       "        text-align: right;\n",
       "    }\n",
       "</style>\n",
       "<table border=\"1\" class=\"dataframe\">\n",
       "  <thead>\n",
       "    <tr style=\"text-align: right;\">\n",
       "      <th></th>\n",
       "      <th>PROJECT_ID</th>\n",
       "      <th>CHUNK_ID</th>\n",
       "      <th>ID</th>\n",
       "      <th>TYPE</th>\n",
       "      <th>CONTEXT</th>\n",
       "      <th>ID_lowercase</th>\n",
       "      <th>PROPERTIES</th>\n",
       "      <th>COMMUNITY_ID</th>\n",
       "    </tr>\n",
       "  </thead>\n",
       "  <tbody>\n",
       "    <tr>\n",
       "      <th>0</th>\n",
       "      <td>tokenflow</td>\n",
       "      <td>AIVeronica</td>\n",
       "      <td>AIVeronica</td>\n",
       "      <td>ai_agent</td>\n",
       "      <td>Agent with name AIVeronica has symbol: AIV and...</td>\n",
       "      <td>aiveronica</td>\n",
       "      <td>{'character': None, 'collaborators': None, 'ha...</td>\n",
       "      <td>28</td>\n",
       "    </tr>\n",
       "    <tr>\n",
       "      <th>1</th>\n",
       "      <td>tokenflow</td>\n",
       "      <td>GAIA AI</td>\n",
       "      <td>GAIA AI</td>\n",
       "      <td>ai_agent</td>\n",
       "      <td>Agent with name GAIA AI has symbol: GAIA and d...</td>\n",
       "      <td>gaia ai</td>\n",
       "      <td>{'character': 'Altruistic Intelligence for a B...</td>\n",
       "      <td>29</td>\n",
       "    </tr>\n",
       "  </tbody>\n",
       "</table>\n",
       "</div>"
      ],
      "text/plain": [
       "  PROJECT_ID    CHUNK_ID          ID      TYPE  \\\n",
       "0  tokenflow  AIVeronica  AIVeronica  ai_agent   \n",
       "1  tokenflow     GAIA AI     GAIA AI  ai_agent   \n",
       "\n",
       "                                             CONTEXT ID_lowercase  \\\n",
       "0  Agent with name AIVeronica has symbol: AIV and...   aiveronica   \n",
       "1  Agent with name GAIA AI has symbol: GAIA and d...      gaia ai   \n",
       "\n",
       "                                          PROPERTIES  COMMUNITY_ID  \n",
       "0  {'character': None, 'collaborators': None, 'ha...            28  \n",
       "1  {'character': 'Altruistic Intelligence for a B...            29  "
      ]
     },
     "execution_count": 66,
     "metadata": {},
     "output_type": "execute_result"
    }
   ],
   "source": [
    "nodes.head(2)"
   ]
  },
  {
   "cell_type": "code",
   "execution_count": 67,
   "id": "1044d790-99e7-4f27-8534-c6cba5b9a72b",
   "metadata": {},
   "outputs": [
    {
     "data": {
      "text/html": [
       "<div>\n",
       "<style scoped>\n",
       "    .dataframe tbody tr th:only-of-type {\n",
       "        vertical-align: middle;\n",
       "    }\n",
       "\n",
       "    .dataframe tbody tr th {\n",
       "        vertical-align: top;\n",
       "    }\n",
       "\n",
       "    .dataframe thead th {\n",
       "        text-align: right;\n",
       "    }\n",
       "</style>\n",
       "<table border=\"1\" class=\"dataframe\">\n",
       "  <thead>\n",
       "    <tr style=\"text-align: right;\">\n",
       "      <th></th>\n",
       "      <th>PROJECT_ID</th>\n",
       "      <th>CHUNK_ID</th>\n",
       "      <th>SRC_NODE_ID</th>\n",
       "      <th>DST_NODE_ID</th>\n",
       "      <th>TYPE</th>\n",
       "      <th>CONTEXT</th>\n",
       "    </tr>\n",
       "  </thead>\n",
       "  <tbody>\n",
       "    <tr>\n",
       "      <th>0</th>\n",
       "      <td>tokenflow</td>\n",
       "      <td>Replicat-One</td>\n",
       "      <td>$RCAT</td>\n",
       "      <td>Replicat-One</td>\n",
       "      <td>powers</td>\n",
       "      <td>The $RCAT token powers the first agent release...</td>\n",
       "    </tr>\n",
       "    <tr>\n",
       "      <th>1</th>\n",
       "      <td>tokenflow</td>\n",
       "      <td>Freya</td>\n",
       "      <td>Freya</td>\n",
       "      <td>BonBon</td>\n",
       "      <td>collaborates_with</td>\n",
       "      <td>Her only flaws? According to BonBon, her best ...</td>\n",
       "    </tr>\n",
       "  </tbody>\n",
       "</table>\n",
       "</div>"
      ],
      "text/plain": [
       "  PROJECT_ID      CHUNK_ID SRC_NODE_ID   DST_NODE_ID               TYPE  \\\n",
       "0  tokenflow  Replicat-One       $RCAT  Replicat-One             powers   \n",
       "1  tokenflow         Freya       Freya        BonBon  collaborates_with   \n",
       "\n",
       "                                             CONTEXT  \n",
       "0  The $RCAT token powers the first agent release...  \n",
       "1  Her only flaws? According to BonBon, her best ...  "
      ]
     },
     "execution_count": 67,
     "metadata": {},
     "output_type": "execute_result"
    }
   ],
   "source": [
    "edges.head(2)"
   ]
  },
  {
   "cell_type": "code",
   "execution_count": 68,
   "id": "0b08f71d-9bcf-4af5-8690-020b32d7df08",
   "metadata": {},
   "outputs": [],
   "source": [
    "nodes_for_yfiles = []\n",
    "\n",
    "for index, row in nodes.iterrows(): \n",
    "    # Check if the node already exists in the graph based on node ID.\n",
    "    if any(node['id'] == row['ID'] for node in nodes_for_yfiles):\n",
    "        continue  # Skip adding this node if it already exists in the graph.\n",
    "    entity_emoji = get_node_icon(node_type=row['TYPE'])\n",
    "    entity_color = get_node_color(node_type=row['TYPE'])\n",
    "    entity_label = f\"{entity_emoji} {row['ID']}\"\n",
    "    entity_properties = row['PROPERTIES']\n",
    "    if entity_properties is None:\n",
    "        entity_properties = {}\n",
    "        \n",
    "     # Add the node type as metadata in the first position.\n",
    "    entity_properties[\"node_type\"] = row['TYPE']\n",
    "    entity_properties[\"node_id\"] = row['ID']\n",
    "\n",
    "    node_for_yfiles = {\"id\": row['ID'],\n",
    "                       \"properties\":\n",
    "                          {\"label\": entity_label,\n",
    "                           \"properties\": entity_properties,\n",
    "                           \"color\": entity_color,\n",
    "                           \"type\": row['TYPE'],\n",
    "                           \"community\": row['COMMUNITY_ID']\n",
    "                          }\n",
    "                     }\n",
    "    # Add the node.\n",
    "    nodes_for_yfiles.append(node_for_yfiles)"
   ]
  },
  {
   "cell_type": "code",
   "execution_count": 69,
   "id": "7e2aeda8-6ba3-4b2b-aaed-d8495135ffc1",
   "metadata": {},
   "outputs": [],
   "source": [
    "edges_for_yfiles = []\n",
    "\n",
    "for index, row in edges.iterrows():        \n",
    "    edge_for_yfiles = {\n",
    "        \"id\": index,\n",
    "        \"start\": row['SRC_NODE_ID'],\n",
    "        \"end\": row['DST_NODE_ID'],\n",
    "        \"properties\":\n",
    "            {\n",
    "             \"label\": row['TYPE'],\n",
    "            }\n",
    "       }\n",
    "    edges_for_yfiles.append(edge_for_yfiles)"
   ]
  },
  {
   "cell_type": "code",
   "execution_count": 70,
   "id": "343c4fbc-28c2-433e-b396-91dff7f39f3e",
   "metadata": {},
   "outputs": [],
   "source": [
    "w = GraphWidget()\n",
    "w.nodes = nodes_for_yfiles\n",
    "w.edges = edges_for_yfiles\n",
    "w.directed = True"
   ]
  },
  {
   "cell_type": "code",
   "execution_count": 71,
   "id": "e7a62e77-3251-4399-b953-faa4df55e7fb",
   "metadata": {},
   "outputs": [
    {
     "data": {
      "application/vnd.jupyter.widget-view+json": {
       "model_id": "b0b79f4538c441b5bd9be02a7e7583f6",
       "version_major": 2,
       "version_minor": 0
      },
      "text/plain": [
       "GraphWidget(layout=Layout(height='800px', width='100%'))"
      ]
     },
     "metadata": {},
     "output_type": "display_data"
    }
   ],
   "source": [
    "# Show with color mapping\n",
    "\n",
    "w.node_color_mapping = 'color'\n",
    "w.show()"
   ]
  },
  {
   "cell_type": "code",
   "execution_count": 72,
   "id": "15f56565-1009-43e8-b80b-e6890a460245",
   "metadata": {},
   "outputs": [
    {
     "data": {
      "application/vnd.jupyter.widget-view+json": {
       "model_id": "b0b79f4538c441b5bd9be02a7e7583f6",
       "version_major": 2,
       "version_minor": 0
      },
      "text/plain": [
       "GraphWidget(layout=Layout(height='800px', width='100%'))"
      ]
     },
     "metadata": {},
     "output_type": "display_data"
    }
   ],
   "source": [
    "# Show with color and community mapping\n",
    "\n",
    "w.node_color_mapping = 'color'\n",
    "w.node_parent_group_mapping = 'community'\n",
    "w.show()"
   ]
  },
  {
   "cell_type": "code",
   "execution_count": 73,
   "id": "22e460d6-218e-4ac5-8042-d98c9e138ecb",
   "metadata": {},
   "outputs": [
    {
     "name": "stdout",
     "output_type": "stream",
     "text": [
      "False\n",
      "False\n",
      "\n"
     ]
    }
   ],
   "source": [
    "# Some nodes seem to not having any edge.\n",
    "# A check:\n",
    "check_node = \"Yugo\"\n",
    "print(check_node in edges['SRC_NODE_ID'].tolist())\n",
    "print(check_node in edges['DST_NODE_ID'].tolist())\n",
    "print()\n",
    "# full_context = nodes[nodes['ID'] == check_node]['CONTEXT'].values[0]\n",
    "# print(full_context)"
   ]
  }
 ],
 "metadata": {
  "kernelspec": {
   "display_name": "Python 3 (ipykernel)",
   "language": "python",
   "name": "python3"
  },
  "language_info": {
   "codemirror_mode": {
    "name": "ipython",
    "version": 3
   },
   "file_extension": ".py",
   "mimetype": "text/x-python",
   "name": "python",
   "nbconvert_exporter": "python",
   "pygments_lexer": "ipython3",
   "version": "3.11.8"
  }
 },
 "nbformat": 4,
 "nbformat_minor": 5
}
