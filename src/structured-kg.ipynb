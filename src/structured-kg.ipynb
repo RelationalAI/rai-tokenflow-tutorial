{
 "metadata": {
  "kernelspec": {
   "display_name": "Python 3 (ipykernel)",
   "language": "python",
   "name": "python3"
  },
  "language_info": {
   "codemirror_mode": {
    "name": "ipython",
    "version": 3
   },
   "file_extension": ".py",
   "mimetype": "text/x-python",
   "name": "python",
   "nbconvert_exporter": "python",
   "pygments_lexer": "ipython3",
   "version": "3.11.11"
  },
  "lastEditStatus": {
   "notebookId": "belt54mya2kqgq3wlizy",
   "authorId": "9089831661351",
   "authorName": "YIMIN_WANG_RAI_GEN_AI",
   "authorEmail": "yimin.wang@relational.ai",
   "sessionId": "676c61e4-be9e-4cb7-805c-f358aae0ef54",
   "lastEditTime": 1744291668273
  }
 },
 "nbformat_minor": 5,
 "nbformat": 4,
 "cells": [
  {
   "cell_type": "code",
   "id": "bd04b9b8-00e9-4c8c-85d9-97fbeb0dca61",
   "metadata": {
    "language": "python",
    "name": "cell21"
   },
   "outputs": [],
   "source": "%pip install relationalai networkx matplotlib",
   "execution_count": null
  },
  {
   "cell_type": "code",
   "execution_count": 1,
   "id": "76620d59-9039-4e82-8415-33977e2c3ed0",
   "metadata": {
    "name": "cell1",
    "language": "python"
   },
   "outputs": [
    {
     "name": "stdout",
     "output_type": "stream",
     "text": [
      "Connected to debugger at ws://0.0.0.0:8080/ws/program...\n"
     ]
    },
    {
     "data": {
      "text/html": [
       "<pre style=\"white-space:pre;overflow-x:auto;line-height:normal;font-family:Menlo,'DejaVu Sans Mono',consolas,'Courier New',monospace\">\n",
       "</pre>\n"
      ],
      "text/plain": [
       "\n"
      ]
     },
     "metadata": {},
     "output_type": "display_data"
    },
    {
     "data": {
      "text/html": [
       "<span style='font-family: monospace;color: #008000;'>▰▰▰▰ Engine qb_yw initialized</span>"
      ],
      "text/plain": [
       "<IPython.core.display.HTML object>"
      ]
     },
     "metadata": {},
     "output_type": "display_data"
    },
    {
     "data": {
      "text/html": [
       "<pre style=\"white-space:pre;overflow-x:auto;line-height:normal;font-family:Menlo,'DejaVu Sans Mono',consolas,'Courier New',monospace\">\n",
       "</pre>\n"
      ],
      "text/plain": [
       "\n"
      ]
     },
     "metadata": {},
     "output_type": "display_data"
    }
   ],
   "source": "import relationalai as rai\nfrom relationalai.std import aggregates,strings,dates\n\n# Create a model named \"tokenflow_test1\".\nmodel = rai.Model(\"tokenflow_test1\")"
  },
  {
   "cell_type": "code",
   "execution_count": 3,
   "id": "974f4733-0bf9-4a55-ad1c-77a112202647",
   "metadata": {
    "name": "cell3",
    "language": "python",
    "codeCollapsed": false
   },
   "outputs": [],
   "source": [
    "# define entities for SF input tables; we will use it to populate the ontology entities\n",
    "Virtuals_agents = model.Type(\"Virtuals_agents\", source=\"tokenflow.public.virtuals_agents\")\n",
    "Token_snapshot_raw = model.Type(\"Token_snapshot_raw\", source=\"tokenflow.public.token_snapshot\")\n",
    "Running_token_balances = model.Type(\"Running_token_balances\", source=\"tokenflow.public.running_token_balances\")"
   ]
  },
  {
   "cell_type": "code",
   "execution_count": 4,
   "id": "913962cf-985e-4ab3-be49-b320096ef310",
   "metadata": {
    "name": "cell4",
    "language": "python"
   },
   "outputs": [
    {
     "name": "stdout",
     "output_type": "stream",
     "text": [
      "['snowflake_id', 'agent_token_address', 'name', 'symbol', 'description', 'created_at', 'lp', 'tba', 'wallets', 'is_public', 'is_premium', 'x_username', 'status', 'extra_data', 'added_at']\n",
      "['snowflake_id', 'name', 'token_address', 'snapshot_time', 'transfer_count', 'transfer_amount', 'buy_count', 'buy_amount', 'sell_count', 'sell_amount', 'mint_count', 'mint_amount', 'burn_count', 'burn_amount', 'total_supply', 'holder_count', 'usd_price', 'tvl']\n",
      "['snowflake_id', 'token_address', 'holder', 'balance_change_time', 'running_balance']\n"
     ]
    }
   ],
   "source": [
    "# print the columns in the SF input tables\n",
    "print(Virtuals_agents.known_properties())\n",
    "print(Token_snapshot_raw.known_properties())\n",
    "print(Running_token_balances.known_properties())"
   ]
  },
  {
   "cell_type": "markdown",
   "id": "8aed07f4-f9fb-4d0e-8845-f078365bc537",
   "metadata": {
    "name": "cell5"
   },
   "source": [
    "## Ontology"
   ]
  },
  {
   "cell_type": "code",
   "execution_count": 5,
   "id": "4b19e9b6-6e25-4c58-b6ef-7de2e2f02280",
   "metadata": {
    "name": "cell6",
    "language": "python"
   },
   "outputs": [],
   "source": [
    "# define a Token entity, where token_address is the unique identifier\n",
    "# there are two sources to get Token\n",
    "# first, we create a Token instance for every token_address found in tokenflow.public.token_snapshot table\n",
    "Token = model.Type(\"Token\")\n",
    "with model.rule():\n",
    "    tsr = Token_snapshot_raw()\n",
    "    t = Token.add(token_address=tsr.token_address)\n",
    "    t.set(name=tsr.name)\n",
    "    t.set(lowercase_name=strings.lowercase(tsr.name))"
   ]
  },
  {
   "cell_type": "code",
   "execution_count": 6,
   "id": "5c7cdd50-0c5b-4857-8b65-3a065538528e",
   "metadata": {
    "name": "cell7",
    "language": "python"
   },
   "outputs": [],
   "source": [
    "# the second source for Token instance is from tokenflow.public.running_token_balances table\n",
    "# in this case we need to lookup the name of the token_address from tokenflow.public.virtuals_agents\n",
    "with model.rule():\n",
    "    r = Running_token_balances()\n",
    "    v = Virtuals_agents(agent_token_address=r.token_address)\n",
    "    t = Token.add(token_address=r.token_address)\n",
    "    t.set(name=v.name)\n",
    "    t.set(lowercase_name=strings.lowercase(v.name))"
   ]
  },
  {
   "cell_type": "code",
   "execution_count": 7,
   "id": "3ba637f9-bff2-41c5-ae7a-d85bee5f560d",
   "metadata": {
    "name": "cell8",
    "language": "python"
   },
   "outputs": [
    {
     "data": {
      "text/html": [
       "<pre style=\"white-space:pre;overflow-x:auto;line-height:normal;font-family:Menlo,'DejaVu Sans Mono',consolas,'Courier New',monospace\">\n",
       "</pre>\n"
      ],
      "text/plain": [
       "\n"
      ]
     },
     "metadata": {},
     "output_type": "display_data"
    },
    {
     "data": {
      "text/html": [
       "<span style='font-family: monospace;color: #008000;'>▰▰▰▰ Data sources validated</span>"
      ],
      "text/plain": [
       "<IPython.core.display.HTML object>"
      ]
     },
     "metadata": {},
     "output_type": "display_data"
    },
    {
     "data": {
      "text/html": [
       "<pre style=\"white-space:pre;overflow-x:auto;line-height:normal;font-family:Menlo,'DejaVu Sans Mono',consolas,'Courier New',monospace\">\n",
       "</pre>\n"
      ],
      "text/plain": [
       "\n"
      ]
     },
     "metadata": {},
     "output_type": "display_data"
    },
    {
     "data": {
      "text/html": [
       "<pre style=\"white-space:pre;overflow-x:auto;line-height:normal;font-family:Menlo,'DejaVu Sans Mono',consolas,'Courier New',monospace\">\n",
       "</pre>\n"
      ],
      "text/plain": [
       "\n"
      ]
     },
     "metadata": {},
     "output_type": "display_data"
    },
    {
     "data": {
      "text/html": [
       "<span style='font-family: monospace;color: #008000;'>▰▰▰▰ Setup complete</span>"
      ],
      "text/plain": [
       "<IPython.core.display.HTML object>"
      ]
     },
     "metadata": {},
     "output_type": "display_data"
    },
    {
     "data": {
      "text/html": [
       "<pre style=\"white-space:pre;overflow-x:auto;line-height:normal;font-family:Menlo,'DejaVu Sans Mono',consolas,'Courier New',monospace\">\n",
       "</pre>\n"
      ],
      "text/plain": [
       "\n"
      ]
     },
     "metadata": {},
     "output_type": "display_data"
    },
    {
     "data": {
      "text/html": [
       "<pre style=\"white-space:pre;overflow-x:auto;line-height:normal;font-family:Menlo,'DejaVu Sans Mono',consolas,'Courier New',monospace\">\n",
       "</pre>\n"
      ],
      "text/plain": [
       "\n"
      ]
     },
     "metadata": {},
     "output_type": "display_data"
    },
    {
     "name": "stdout",
     "output_type": "stream",
     "text": [
      "                     name          lowercase_name  \\\n",
      "0          $TRUST ME BROs          $trust me bros   \n",
      "1                   Azara                   azara   \n",
      "2               Baldashin               baldashin   \n",
      "3               Bizonacci               bizonacci   \n",
      "4              BuddhaJung              buddhajung   \n",
      "5              HyperWaifu              hyperwaifu   \n",
      "6  Metropolis by Virtuals  metropolis by virtuals   \n",
      "7                 NODERZZ                 noderzz   \n",
      "8           Puppet Master           puppet master   \n",
      "9               Vainguard               vainguard   \n",
      "\n",
      "                                token_address  \n",
      "0  0xc841b4ead3f70be99472ffdb88e5c3c7af6a481a  \n",
      "1  0x3e1f498f9ad7c505e33bf9080cc93dcaf057d29f  \n",
      "2  0x7e74e0e4d58b3b5ac68af071bbd411f554e0a516  \n",
      "3  0xb4f6e4455dce4557fd74055a4b4584c4b34968aa  \n",
      "4  0x1db3def03b0fe4a602bf1acdf66916aa778b46a4  \n",
      "5  0xdaf40742384cff4721b259bddbf23b52a3715618  \n",
      "6  0x73cde00aeb52ed16a74c6e9d9e22514999c91d80  \n",
      "7  0x2acd6a246157bf51636d06a83200f8923e7eb864  \n",
      "8  0xc127dc63f96ade4b28bc5838910736d8ab68c645  \n",
      "9  0xe709c929f04044310f30490ab42812270bf299b4  \n"
     ]
    }
   ],
   "source": [
    "# query a few instances of Token entity\n",
    "with model.query() as select:\n",
    "    v = Token()\n",
    "    aggregates.top(10, v)\n",
    "    z = select(v.name, v.lowercase_name, v.token_address)\n",
    "print(z.results)"
   ]
  },
  {
   "cell_type": "code",
   "execution_count": 8,
   "id": "a197f5a0-acdc-4b5d-bfd2-509b347320a0",
   "metadata": {
    "name": "cell9",
    "language": "python"
   },
   "outputs": [],
   "source": "# define Token_snapshot entity, it has two unique identifiers, token and snapshot_time\nToken_snapshot = model.Type(\"Token_snapshot\")\nwith model.rule():\n    tsr = Token_snapshot_raw()\n    t = Token(token_address=tsr.token_address)\n    ts = Token_snapshot.add(token=t, snapshot_time=tsr.snapshot_time)\n    \n    ts.set(holder_count=tsr.holder_count, usd_price=tsr.usd_price, tvl=tsr.tvl)"
  },
  {
   "cell_type": "code",
   "execution_count": 9,
   "id": "39df06cd-3a5b-4ae8-b7ad-c698314e8344",
   "metadata": {
    "name": "cell10",
    "language": "python"
   },
   "outputs": [
    {
     "name": "stdout",
     "output_type": "stream",
     "text": [
      "               name                               token_address  \\\n",
      "0            0xMonk  0x06abb84958029468574b28b6e7792a770ccaa2f6   \n",
      "1             0xRay  0xac532562e3b31151a933b11c8d4387cb1ec61c70   \n",
      "2   Agent YieldDefi  0x812f21e579da8121723c4893b38966c56f7795dd   \n",
      "3      BaseHoundBot  0xccdf2cbabfa37878125ab2d20bfcb9328b7ab3cf   \n",
      "4        Eye Future  0x5537a24ad7e8d68aec165dcff6d2f8c23605417f   \n",
      "5  Michael De Santa  0x2cf29b1e910cc0d45d8151b84d4dfde1788cf30e   \n",
      "6    NA by virtuals  0xa2935744de0056231e52ca37a8744c2fb532ed5e   \n",
      "7         Stellaris  0xf24e6fdc85e2ad23884a47b908ef38befe48d01c   \n",
      "8        Tradescoop  0xf404bc113f4fc7c2447cb2556dcf5a56e29fa2dd   \n",
      "9         Vainguard  0xe709c929f04044310f30490ab42812270bf299b4   \n",
      "\n",
      "        snapshot_time  holder_count  \n",
      "0 2025-04-01 08:00:00         20643  \n",
      "1 2025-04-01 08:00:00            28  \n",
      "2 2025-04-01 08:00:00           611  \n",
      "3 2025-04-01 08:00:00          1168  \n",
      "4 2025-04-01 08:00:00         21960  \n",
      "5 2025-04-01 08:00:00           148  \n",
      "6 2025-04-01 08:00:00           236  \n",
      "7 2025-04-01 08:00:00            85  \n",
      "8 2025-04-01 08:00:00          1098  \n",
      "9 2025-04-01 08:00:00           119  \n"
     ]
    }
   ],
   "source": [
    "# query a few instances of Token_snapshot entity\n",
    "with model.query() as select:\n",
    "    v = Token_snapshot()\n",
    "    aggregates.top(10, v)\n",
    "    z = select(v.token.name, v.token.token_address, v.snapshot_time, v.holder_count)\n",
    "\n",
    "print(z.results)"
   ]
  },
  {
   "cell_type": "code",
   "execution_count": 10,
   "id": "b2564a2b-2f62-42b0-8061-70c0d91b14c6",
   "metadata": {
    "name": "cell11",
    "language": "python"
   },
   "outputs": [],
   "source": [
    "# add a property of Token entity to keep track of the latest snapshot of each token\n",
    "with model.rule():\n",
    "    ts = Token_snapshot()\n",
    "    aggregates.bottom(1, ts.snapshot_time, ts, per=[ts.token])\n",
    "    ts.token.set(latest=ts)"
   ]
  },
  {
   "cell_type": "code",
   "execution_count": 11,
   "id": "f7e1f60e-6b6c-4768-b20c-5257e8a509a5",
   "metadata": {
    "name": "cell12",
    "language": "python"
   },
   "outputs": [],
   "source": [
    "# define Balance entity to track the running balance for each token and each holder at a given blance_change_time\n",
    "Balance = model.Type(\"Balance\")\n",
    "with model.rule():\n",
    "    r = Running_token_balances()\n",
    "    t = Token(token_address=r.token_address)\n",
    "    Balance.add(token=t, holder=r.holder, balance_change_time=r.balance_change_time).set(running_balance=r.running_balance)"
   ]
  },
  {
   "cell_type": "code",
   "execution_count": 12,
   "id": "c0b70136-57b5-4274-b50a-506535ff9267",
   "metadata": {
    "name": "cell13",
    "language": "python"
   },
   "outputs": [],
   "source": "# define a derived entity from Balance to track the latest Balance for each token and each holder\nBalance_latest = model.Type(\"Balance_latest\")\nwith model.rule():\n    b = Balance()\n    aggregates.bottom(1, b.balance_change_time, b, per=[b.token, b.holder])\n    b.set(Balance_latest)"
  },
  {
   "cell_type": "code",
   "execution_count": null,
   "id": "2836f6cb-ae27-4a54-8eca-b1ac516e9b49",
   "metadata": {
    "name": "cell14",
    "language": "python"
   },
   "outputs": [],
   "source": "# define a derived entity from Balance to track the Balance for each token and each holder 3 month ago\nBalance_3month_ago = model.Type(\"Balance_3month_ago\")\nwith model.rule():\n    b = Balance()\n    time_now = aggregates.max(b.balance_change_time)\n    b.balance_change_time <= time_now - dates.months(3)\n    aggregates.bottom(1, b.balance_change_time, b, per=[b.token, b.holder])\n    b.set(Balance_3month_ago)"
  },
  {
   "cell_type": "code",
   "execution_count": 13,
   "id": "bd181d39-1cbe-4c4d-9d84-5b5760e73518",
   "metadata": {
    "name": "cell15",
    "language": "python"
   },
   "outputs": [
    {
     "name": "stdout",
     "output_type": "stream",
     "text": [
      "             name                                      holder  \\\n",
      "0       AI ROCKET  0xf5aca5c3a0b70f847de4652ac77bd601ccfe8339   \n",
      "1      AIVeronica  0x0a2854fbbd9b3ef66f17d47284e7f899b9509330   \n",
      "2         Acolyte  0xf8c7e892fdab0dd3ed047b9eb42e6ed10a158e0f   \n",
      "3       EchoLeaks  0x1895a6b620d71dd351a6635a64beaa24636c929f   \n",
      "4       Gigabrain  0xae884e910a284e5e022c2b63db610e2f50d46f4f   \n",
      "5      Polytrader  0x382ffce2287252f930e1c8dc9328dac5bf282ba1   \n",
      "6            Rekt  0xb51d276418fcf23733877fb0629617667c78c831   \n",
      "7         Sympson  0xf22482a194b7df297599a8d05c418c4f36cbe560   \n",
      "8  WAI Combinator  0xc7d3ab410d49b664d03fe5b1038852ac852b1b29   \n",
      "9          sekoia  0x47686106181b3cefe4eaf94c4c10b48ac750370b   \n",
      "\n",
      "  balance_change_time          running_balance  \n",
      "0 2025-04-01 08:00:00      16256024.2629466150  \n",
      "1 2025-04-01 08:00:00                   -1E-10  \n",
      "2 2025-04-01 08:00:00          3646.0191794016  \n",
      "3 2025-04-01 08:00:00          -147.4668860267  \n",
      "4 2025-04-01 08:00:00        138194.7062079267  \n",
      "5 2025-04-01 08:00:00        170008.3460096027  \n",
      "6 2025-04-01 08:00:00  799467159152.3094482422  \n",
      "7 2025-04-01 08:00:00      71408726.2053554058  \n",
      "8 2025-04-01 08:00:00                  -1.5E-9  \n",
      "9 2025-04-01 08:00:00        585179.3031177106  \n"
     ]
    }
   ],
   "source": [
    "# query a few instances of Balance_latest instance \n",
    "with model.query() as select:\n",
    "    b = Balance_latest()\n",
    "    aggregates.top(10, b)\n",
    "    z = select(b.token.name, b.holder, b.balance_change_time, b.running_balance)\n",
    "print(z.results)"
   ]
  },
  {
   "cell_type": "markdown",
   "id": "4c786e66-6dfd-4b16-9c84-c5b7e1826037",
   "metadata": {
    "name": "cell16"
   },
   "source": [
    "## Sample queries"
   ]
  },
  {
   "cell_type": "markdown",
   "id": "64da37f4-30b2-400b-867b-dad0d760258a",
   "metadata": {
    "name": "cell2",
    "collapsed": false
   },
   "source": "#### \"How many holders of AZARA are there?\"\n```\nselect holder_count from token_snapshot \nwhere lower(name)='azara'\norder by snapshot time desc\nlimit 1"
  },
  {
   "cell_type": "code",
   "execution_count": 19,
   "id": "be3183ea-d6cc-4405-a542-45a6a3e141ce",
   "metadata": {
    "name": "cell17",
    "language": "python"
   },
   "outputs": [
    {
     "name": "stdout",
     "output_type": "stream",
     "text": [
      "    name                               token_address       snapshot_time  \\\n",
      "0  Azara  0x3e1f498f9ad7c505e33bf9080cc93dcaf057d29f 2025-04-01 08:00:00   \n",
      "\n",
      "   holder_count  \n",
      "0            30  \n"
     ]
    }
   ],
   "source": [
    "# \"How many holders of AZARA are there?\"\n",
    "with model.query() as select:\n",
    "    v = Token()\n",
    "    v.lowercase_name == 'azara'\n",
    "    z = select(v.name, v.token_address, v.latest.snapshot_time, v.latest.holder_count)\n",
    "print(z.results)"
   ]
  },
  {
   "cell_type": "markdown",
   "id": "b3d351d0-7753-4603-9553-a6c026cc1096",
   "metadata": {
    "name": "cell22",
    "collapsed": false
   },
   "source": "#### \"How many holders currently have more than 20,000 REKT?\"\n```\nwith balances as (\n    select holder,\n    max_by(running_balance, balance_change_time) as balance\n    from running_token_balances b\n    left join virtuals_agents a on b.token_address=a.agent_token_address\n    where lower(a.name)='aixbt'\n    group by holder\n)\nselect count(*) from balances\nwhere balance>20000"
  },
  {
   "cell_type": "code",
   "execution_count": 20,
   "id": "6a67c876-c5d8-4d1f-8d70-16fc0bd9e566",
   "metadata": {
    "name": "cell18",
    "language": "python"
   },
   "outputs": [
    {
     "name": "stdout",
     "output_type": "stream",
     "text": [
      "   name  result\n",
      "0  Rekt       1\n"
     ]
    }
   ],
   "source": [
    "#\"How many holders currently have more than 20,000 REKT?\"\n",
    "with model.query() as select:\n",
    "    b = Balance_latest()\n",
    "    b.token.lowercase_name == \"rekt\"\n",
    "    b.running_balance > 20000\n",
    "    c = aggregates.count(b, b.holder, per=[b.token])\n",
    "    z = select(b.token.name, c)\n",
    "print(z.results)"
   ]
  },
  {
   "cell_type": "markdown",
   "id": "e47e2b2d-399f-478e-9893-2192c84b50d0",
   "metadata": {
    "name": "cell23",
    "collapsed": false
   },
   "source": "#### How many holders have tokens from 5 or more Virtuals agents?\n```\nwith balances as (\n    select holder,\n    token_address,\n    max_by(running_balance, balance_change_time) as balance\n    from running_token_balances\n    group by holder, token_address\n    having balance > 0\n), \nholders_with_5 as (\n    select holder,\n    count(*) as token_count\n    from balances\n    group by holder\n    having token_count >= 5\n)\nselect count(*) from holders_with_5"
  },
  {
   "cell_type": "code",
   "execution_count": 15,
   "id": "18dd475f-198f-437e-aaf3-b271d9b1ad6c",
   "metadata": {
    "name": "cell19",
    "language": "python"
   },
   "outputs": [
    {
     "name": "stdout",
     "output_type": "stream",
     "text": [
      "   result\n",
      "0       7\n"
     ]
    }
   ],
   "source": "#How many holders have tokens from 5 or more Virtuals agents?\nwith model.query() as select:\n    b = Balance_latest()\n    b.running_balance > 0\n    num_token = aggregates.count(b, b.token, per=[b.holder])\n    num_token > 1\n    num_holder = aggregates.count(b.holder)\n    z = select(num_holder)\nprint(z.results)"
  },
  {
   "cell_type": "markdown",
   "id": "2dadbfec-b014-456d-b033-7c41e14b0f09",
   "metadata": {
    "name": "cell24",
    "collapsed": false
   },
   "source": "#### How many new token holders that didn't own before but now do are there for REKT today compared to 3 months ago?\n```\n\"with holders_3m as (\n    select holder,\n    max_by(running_balance, balance_change_time) as balance\n    from running_token_balances b\n    left join virtuals_agents a\n    on b.token_address=a.agent_token_address\n    where lower(a.name)='aixbt'\n    and balance_change_time <= dateadd('month', -3, sysdate())\n    group by holder\n    having balance > 0\n), \nholders_now as (\n    select holder,\n    max_by(running_balance, balance_change_time) as balance\n    from running_token_balances b\n    left join virtuals_agents a\n    on b.token_address=a.agent_token_address\n    where a.name='aixbt'\n    group by holder\n    having balance > 0\n)\nselect count(*) from holders_now \nwhere holder not in (select holder from holders_3m)"
  },
  {
   "cell_type": "code",
   "execution_count": 18,
   "id": "b67f53ca-7870-440c-a814-6d8f964f6a6f",
   "metadata": {
    "name": "cell20",
    "language": "python"
   },
   "outputs": [
    {
     "name": "stdout",
     "output_type": "stream",
     "text": [
      "   result\n",
      "0       1\n"
     ]
    }
   ],
   "source": "# How many new token holders that didn't own before but now do are there for REKT today compared to 3 months ago?,\nwith model.query() as select:\n    b = Balance_latest()\n    b.token.lowercase_name == \"rekt\"\n    b.running_balance > 0\n    with model.not_found():\n        b2 = Balance_3month_ago()\n        b2.token.lowercase_name == \"rekt\"\n        b2.holder == b.holder\n    num_new_holder = aggregates.count(b.holder)\n    z = select(num_new_holder)\n\nprint(z.results)"
  }
 ]
}